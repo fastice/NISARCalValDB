{
 "cells": [
  {
   "cell_type": "markdown",
   "id": "a4009c32-3df3-479a-acd3-292396ced6a8",
   "metadata": {},
   "source": [
    "# Test Notebook for nisarcryodb applied to Solid Earth\n",
    "---"
   ]
  },
  {
   "cell_type": "markdown",
   "id": "4966aafa-6b7d-44ce-87b0-4d329323c571",
   "metadata": {},
   "source": [
    "This note book is used to develop, test, and document the  `nisarcryodb` class, which was developed to query the NISAR cal/val db for GPS data for the cryosphere validation sites.\n",
    "\n",
    "This notebook demonstrates the same code can be used to access the solid earth GPS results.\n",
    "\n",
    "Note the methods are all designed to **rollback** the database connection when errors arise. The errors are also trapped and presented more succinctly than typical python error messages. \n"
   ]
  },
  {
   "cell_type": "code",
   "execution_count": 1,
   "id": "973ece80-b9a1-441d-af15-f06b72f23778",
   "metadata": {},
   "outputs": [],
   "source": [
    "%load_ext autoreload\n",
    "%autoreload 2\n",
    "import nisarcryodb\n",
    "from psycopg2 import sql\n",
    "import matplotlib.pyplot as plt\n",
    "import numpy as np"
   ]
  },
  {
   "cell_type": "markdown",
   "id": "1dfa7449-170a-4212-9db9-6230e147f62b",
   "metadata": {},
   "source": [
    "## Initialize nisarcryodb Object"
   ]
  },
  {
   "cell_type": "markdown",
   "id": "570ba33d-c077-4195-a98f-bdbe5966f151",
   "metadata": {},
   "source": [
    "This step initializes the connection to the nisar cal/val data base. It requires a cal/val database user name and passwd."
   ]
  },
  {
   "cell_type": "code",
   "execution_count": 2,
   "id": "430c13a6-7734-49d3-8e17-9d7182b64f06",
   "metadata": {},
   "outputs": [
    {
     "name": "stdin",
     "output_type": "stream",
     "text": [
      "User name:  irj\n",
      "Password:  ········\n"
     ]
    }
   ],
   "source": [
    "myConnection = nisarcryodb.nisarcryodb()"
   ]
  },
  {
   "cell_type": "markdown",
   "id": "97f7a422-97c6-452b-9080-a0036e7c3a55",
   "metadata": {},
   "source": [
    "## List Schema"
   ]
  },
  {
   "cell_type": "markdown",
   "id": "a5a45e0e-4865-4076-a1c6-4fa7a8a1135c",
   "metadata": {},
   "source": [
    "List all of the schema in the database. "
   ]
  },
  {
   "cell_type": "code",
   "execution_count": 3,
   "id": "a6ade660-b5aa-461d-bc61-fcce6b07099e",
   "metadata": {},
   "outputs": [
    {
     "name": "stdout",
     "output_type": "stream",
     "text": [
      "crop_area\n",
      "pg_catalog\n",
      "information_schema\n",
      "soil_moisture\n",
      "inundation\n",
      "disturbance\n",
      "seaice\n",
      "biomass_save\n",
      "biomass\n",
      "pg_temp_8\n",
      "pg_toast_temp_8\n",
      "nisar\n",
      "permafrost\n",
      "sites\n",
      "tiger\n",
      "tiger_data\n",
      "topology\n",
      "public\n",
      "solidearth\n",
      "landice\n",
      "pg_temp_16\n",
      "pg_toast_temp_16\n",
      "corner_reflectors\n"
     ]
    }
   ],
   "source": [
    "schemas = myConnection.listSchema(quiet=False)"
   ]
  },
  {
   "cell_type": "code",
   "execution_count": 4,
   "id": "10656316-0213-459f-a6cb-877b1b5c89c7",
   "metadata": {},
   "outputs": [
    {
     "name": "stdout",
     "output_type": "stream",
     "text": [
      "interferogram_id, site_id, track_frame_id, obs_mode, polarization, bandwidth_pri, bandwidth_sec, product_type, product_path, creator, ref_date, repeat_date, isce_version, producer, config_file_path, date_created, granule_name, cycles_apart, band, input_type, archived\n"
     ]
    }
   ],
   "source": [
    "myConnection.listTableColumns('solidearth', 'interferogram');"
   ]
  },
  {
   "cell_type": "code",
   "execution_count": 5,
   "id": "97146667-07b1-4baa-95be-e692605eba0f",
   "metadata": {},
   "outputs": [
    {
     "name": "stdout",
     "output_type": "stream",
     "text": [
      "SELECT * FROM solidearth.interferogram WHERE ;\n",
      "Error in: nisarcryodb.getTableListing\n",
      "\tsyntax error at or near \";\"\n",
      "LINE 1: SELECT * FROM solidearth.interferogram WHERE ;\n",
      "                                                     ^\n",
      "\n",
      "Rolling back connection\n"
     ]
    }
   ],
   "source": [
    "myConnection.getTableListing(schemaName='solidearth', tableName='interferogram')"
   ]
  },
  {
   "cell_type": "markdown",
   "id": "0e2df424-de51-48d6-9840-6577e5fcfcc2",
   "metadata": {},
   "source": [
    "## List Table Names for Schema"
   ]
  },
  {
   "cell_type": "markdown",
   "id": "fed0d0cd-3e6c-4444-b8e8-bcd8b001cbc1",
   "metadata": {},
   "source": [
    "List the names of the table under the solidearth schema."
   ]
  },
  {
   "cell_type": "code",
   "execution_count": 6,
   "id": "2b7ac1ee-16a3-47c7-af2c-b7903e096eac",
   "metadata": {},
   "outputs": [
    {
     "name": "stdout",
     "output_type": "stream",
     "text": [
      "interferogram\n",
      "validation_run\n",
      "l3_product\n",
      "validation_run_intf\n",
      "validation_run_station\n",
      "test_site_table\n",
      "gps_version\n",
      "site\n",
      "gps_measurement\n",
      "gps_station\n"
     ]
    }
   ],
   "source": [
    "myConnection.listSchemaTableNames('solidearth');"
   ]
  },
  {
   "cell_type": "markdown",
   "id": "43d86472-d507-47b8-8c43-eeb14493c532",
   "metadata": {},
   "source": [
    "## List Column Names for Table"
   ]
  },
  {
   "cell_type": "markdown",
   "id": "50af3c77-4328-4227-9050-805c5e932d93",
   "metadata": {},
   "source": [
    "List the column names for a table (e.g., gps_station) and schema (e.g., landice)."
   ]
  },
  {
   "cell_type": "code",
   "execution_count": 7,
   "id": "48826cf5-04a0-481b-ac93-6e9e0ff2a9a0",
   "metadata": {},
   "outputs": [
    {
     "name": "stdout",
     "output_type": "stream",
     "text": [
      "station_id, site_id, station_name, reflat, reflon, east_0, north_0, up_0, refframe, refheight, station_geom\n"
     ]
    }
   ],
   "source": [
    "stationColumns = myConnection.listTableColumns('solidearth', 'gps_station', quiet=False)"
   ]
  },
  {
   "cell_type": "markdown",
   "id": "0aa6ccf8-3d1e-40ad-9c1d-bfc660fc14c5",
   "metadata": {},
   "source": [
    "This time get the columns for the `gps_measurement` table. Use `returnType=True` to get the data type for each column."
   ]
  },
  {
   "cell_type": "code",
   "execution_count": 8,
   "id": "fdbda132-f519-43f9-97a5-a1ef377d9bfc",
   "metadata": {},
   "outputs": [
    {
     "name": "stdout",
     "output_type": "stream",
     "text": [
      "measurement_id, station_id, gps_version_id, measurement_dt, decimal_year, east, north, up, ant, sig_e, sig_n, sig_u, corr_en, corr_eu, corr_nu\n",
      "integer, integer, integer, date, double precision, double precision, double precision, double precision, double precision, double precision, double precision, double precision, double precision, double precision, double precision\n"
     ]
    }
   ],
   "source": [
    "gpsColumns, gpsDataTypes = myConnection.listTableColumns('solidearth', 'gps_measurement', returnType=True)"
   ]
  },
  {
   "cell_type": "markdown",
   "id": "fc5f46a1-e626-48d9-bdb4-a2d378244f23",
   "metadata": {},
   "source": [
    "## List Column Values"
   ]
  },
  {
   "cell_type": "markdown",
   "id": "5efd32bf-c697-4e60-9479-7b86ea815593",
   "metadata": {},
   "source": [
    "Get the `station_name` column values for `solidearth.gps_station` tables "
   ]
  },
  {
   "cell_type": "code",
   "execution_count": 9,
   "id": "5aa122d4-825f-44f8-9482-ee3f53ab0364",
   "metadata": {},
   "outputs": [
    {
     "data": {
      "text/plain": [
       "['01NA',\n",
       " '02NA',\n",
       " '0ABI',\n",
       " '0ABN',\n",
       " '0ABY',\n",
       " '0AKE',\n",
       " '0ALE',\n",
       " '0ALF',\n",
       " '0ALI',\n",
       " '0ALM']"
      ]
     },
     "execution_count": 9,
     "metadata": {},
     "output_type": "execute_result"
    }
   ],
   "source": [
    "stationNames = myConnection.getColumn('solidearth', 'gps_station', 'station_name')\n",
    "stationNames[0:10]"
   ]
  },
  {
   "cell_type": "markdown",
   "id": "5884b274-2681-4845-86fe-062d2ac3281f",
   "metadata": {},
   "source": [
    "Get the `latitude` and `longitude` column values for `solidearth.gps_station` tables "
   ]
  },
  {
   "cell_type": "code",
   "execution_count": 10,
   "id": "c563f621-ef93-4529-859a-8077482968e2",
   "metadata": {},
   "outputs": [
    {
     "data": {
      "text/plain": [
       "[<matplotlib.lines.Line2D at 0x7ff1dde622a0>]"
      ]
     },
     "execution_count": 10,
     "metadata": {},
     "output_type": "execute_result"
    },
    {
     "data": {
      "image/png": "[encoded data removed]",
      "text/plain": [
       "<Figure size 640x480 with 1 Axes>"
      ]
     },
     "metadata": {},
     "output_type": "display_data"
    }
   ],
   "source": [
    "lat = myConnection.getColumn('solidearth', 'gps_station', 'reflat')\n",
    "lon = myConnection.getColumn('solidearth', 'gps_station', 'reflon')\n",
    "plt.plot(lon, lat, 'r.')"
   ]
  },
  {
   "cell_type": "markdown",
   "id": "6616ee15-6e1d-4973-853d-d0c2ca711023",
   "metadata": {},
   "source": [
    "## Get Station and Site Information Tables"
   ]
  },
  {
   "cell_type": "markdown",
   "id": "800ad253-f534-46b8-9250-a2aa04d3da9e",
   "metadata": {},
   "source": [
    "This section demonstrates how to return tables, with some basic filtering examples. The filtering is fairly basic, but since tables are return as pandas data frames, additional filtering can be applied via pandas operations. Return the table with all of the top-level station data (e.g,, name, id, position, etc)."
   ]
  },
  {
   "cell_type": "code",
   "execution_count": 20,
   "id": "510bf2e4-d8a9-45e5-b22d-3e8757e14b3b",
   "metadata": {},
   "outputs": [
    {
     "name": "stdout",
     "output_type": "stream",
     "text": [
      "SELECT * FROM solidearth.gps_station ;\n"
     ]
    },
    {
     "data": {
      "text/html": [
       "<div>\n",
       "<style scoped>\n",
       "    .dataframe tbody tr th:only-of-type {\n",
       "        vertical-align: middle;\n",
       "    }\n",
       "\n",
       "    .dataframe tbody tr th {\n",
       "        vertical-align: top;\n",
       "    }\n",
       "\n",
       "    .dataframe thead th {\n",
       "        text-align: right;\n",
       "    }\n",
       "</style>\n",
       "<table border=\"1\" class=\"dataframe\">\n",
       "  <thead>\n",
       "    <tr style=\"text-align: right;\">\n",
       "      <th></th>\n",
       "      <th>station_id</th>\n",
       "      <th>site_id</th>\n",
       "      <th>station_name</th>\n",
       "      <th>reflat</th>\n",
       "      <th>reflon</th>\n",
       "      <th>east_0</th>\n",
       "      <th>north_0</th>\n",
       "      <th>up_0</th>\n",
       "      <th>refframe</th>\n",
       "      <th>refheight</th>\n",
       "      <th>station_geom</th>\n",
       "    </tr>\n",
       "  </thead>\n",
       "  <tbody>\n",
       "    <tr>\n",
       "      <th>0</th>\n",
       "      <td>4290</td>\n",
       "      <td>NaN</td>\n",
       "      <td>01NA</td>\n",
       "      <td>-12.478</td>\n",
       "      <td>130.982</td>\n",
       "      <td>-1951.0</td>\n",
       "      <td>-1379987.0</td>\n",
       "      <td>105.0</td>\n",
       "      <td>None</td>\n",
       "      <td>105.409</td>\n",
       "      <td>0101000020E61000008195438B6C5F6040DBF97E6ABCF4...</td>\n",
       "    </tr>\n",
       "    <tr>\n",
       "      <th>1</th>\n",
       "      <td>10605</td>\n",
       "      <td>NaN</td>\n",
       "      <td>02NA</td>\n",
       "      <td>-12.356</td>\n",
       "      <td>130.882</td>\n",
       "      <td>-1987.0</td>\n",
       "      <td>-1366458.0</td>\n",
       "      <td>117.0</td>\n",
       "      <td>None</td>\n",
       "      <td>117.652</td>\n",
       "      <td>0101000020E61000004E621058395C604083C0CAA145B6...</td>\n",
       "    </tr>\n",
       "    <tr>\n",
       "      <th>2</th>\n",
       "      <td>8173</td>\n",
       "      <td>NaN</td>\n",
       "      <td>0ABI</td>\n",
       "      <td>68.354</td>\n",
       "      <td>18.816</td>\n",
       "      <td>677.0</td>\n",
       "      <td>7585405.0</td>\n",
       "      <td>431.0</td>\n",
       "      <td>None</td>\n",
       "      <td>431.388</td>\n",
       "      <td>0101000020E610000037894160E5D032402DB29DEFA716...</td>\n",
       "    </tr>\n",
       "    <tr>\n",
       "      <th>3</th>\n",
       "      <td>9822</td>\n",
       "      <td>NaN</td>\n",
       "      <td>0ABN</td>\n",
       "      <td>65.034</td>\n",
       "      <td>21.333</td>\n",
       "      <td>1548.0</td>\n",
       "      <td>7215094.0</td>\n",
       "      <td>52.0</td>\n",
       "      <td>None</td>\n",
       "      <td>52.762</td>\n",
       "      <td>0101000020E61000006891ED7C3F5535401904560E2D42...</td>\n",
       "    </tr>\n",
       "    <tr>\n",
       "      <th>4</th>\n",
       "      <td>9848</td>\n",
       "      <td>NaN</td>\n",
       "      <td>0ABY</td>\n",
       "      <td>58.659</td>\n",
       "      <td>16.180</td>\n",
       "      <td>-1181.0</td>\n",
       "      <td>6504674.0</td>\n",
       "      <td>60.0</td>\n",
       "      <td>None</td>\n",
       "      <td>60.548</td>\n",
       "      <td>0101000020E6100000AE47E17A142E30403108AC1C5A54...</td>\n",
       "    </tr>\n",
       "    <tr>\n",
       "      <th>...</th>\n",
       "      <td>...</td>\n",
       "      <td>...</td>\n",
       "      <td>...</td>\n",
       "      <td>...</td>\n",
       "      <td>...</td>\n",
       "      <td>...</td>\n",
       "      <td>...</td>\n",
       "      <td>...</td>\n",
       "      <td>...</td>\n",
       "      <td>...</td>\n",
       "      <td>...</td>\n",
       "    </tr>\n",
       "    <tr>\n",
       "      <th>22038</th>\n",
       "      <td>4169</td>\n",
       "      <td>NaN</td>\n",
       "      <td>ZWO2</td>\n",
       "      <td>52.503</td>\n",
       "      <td>6.093</td>\n",
       "      <td>-450.0</td>\n",
       "      <td>5819290.0</td>\n",
       "      <td>65.0</td>\n",
       "      <td>None</td>\n",
       "      <td>65.610</td>\n",
       "      <td>0101000020E6100000AC1C5A643B5F1840AAF1D24D6240...</td>\n",
       "    </tr>\n",
       "    <tr>\n",
       "      <th>22039</th>\n",
       "      <td>22005</td>\n",
       "      <td>NaN</td>\n",
       "      <td>ZWOL</td>\n",
       "      <td>52.502</td>\n",
       "      <td>6.096</td>\n",
       "      <td>-301.0</td>\n",
       "      <td>5819243.0</td>\n",
       "      <td>86.0</td>\n",
       "      <td>None</td>\n",
       "      <td>86.657</td>\n",
       "      <td>0101000020E6100000FCA9F1D24D621840C74B37894140...</td>\n",
       "    </tr>\n",
       "    <tr>\n",
       "      <th>22040</th>\n",
       "      <td>8624</td>\n",
       "      <td>NaN</td>\n",
       "      <td>ZYRA</td>\n",
       "      <td>52.055</td>\n",
       "      <td>20.420</td>\n",
       "      <td>1391.0</td>\n",
       "      <td>5769437.0</td>\n",
       "      <td>157.0</td>\n",
       "      <td>None</td>\n",
       "      <td>157.400</td>\n",
       "      <td>0101000020E6100000EC51B81E856B3440D7A3703D0A07...</td>\n",
       "    </tr>\n",
       "    <tr>\n",
       "      <th>22041</th>\n",
       "      <td>21765</td>\n",
       "      <td>NaN</td>\n",
       "      <td>ZYWE</td>\n",
       "      <td>49.688</td>\n",
       "      <td>19.197</td>\n",
       "      <td>-190.0</td>\n",
       "      <td>5506161.0</td>\n",
       "      <td>405.0</td>\n",
       "      <td>None</td>\n",
       "      <td>405.901</td>\n",
       "      <td>0101000020E6100000DF4F8D976E323340F2D24D6210D8...</td>\n",
       "    </tr>\n",
       "    <tr>\n",
       "      <th>22042</th>\n",
       "      <td>1094</td>\n",
       "      <td>NaN</td>\n",
       "      <td>ZYWI</td>\n",
       "      <td>49.687</td>\n",
       "      <td>19.206</td>\n",
       "      <td>429.0</td>\n",
       "      <td>5505998.0</td>\n",
       "      <td>412.0</td>\n",
       "      <td>None</td>\n",
       "      <td>412.779</td>\n",
       "      <td>0101000020E6100000DBF97E6ABC3433400E2DB29DEFD7...</td>\n",
       "    </tr>\n",
       "  </tbody>\n",
       "</table>\n",
       "<p>22043 rows × 11 columns</p>\n",
       "</div>"
      ],
      "text/plain": [
       "       station_id  site_id station_name  reflat   reflon  east_0    north_0  \\\n",
       "0            4290      NaN         01NA -12.478  130.982 -1951.0 -1379987.0   \n",
       "1           10605      NaN         02NA -12.356  130.882 -1987.0 -1366458.0   \n",
       "2            8173      NaN         0ABI  68.354   18.816   677.0  7585405.0   \n",
       "3            9822      NaN         0ABN  65.034   21.333  1548.0  7215094.0   \n",
       "4            9848      NaN         0ABY  58.659   16.180 -1181.0  6504674.0   \n",
       "...           ...      ...          ...     ...      ...     ...        ...   \n",
       "22038        4169      NaN         ZWO2  52.503    6.093  -450.0  5819290.0   \n",
       "22039       22005      NaN         ZWOL  52.502    6.096  -301.0  5819243.0   \n",
       "22040        8624      NaN         ZYRA  52.055   20.420  1391.0  5769437.0   \n",
       "22041       21765      NaN         ZYWE  49.688   19.197  -190.0  5506161.0   \n",
       "22042        1094      NaN         ZYWI  49.687   19.206   429.0  5505998.0   \n",
       "\n",
       "        up_0 refframe  refheight  \\\n",
       "0      105.0     None    105.409   \n",
       "1      117.0     None    117.652   \n",
       "2      431.0     None    431.388   \n",
       "3       52.0     None     52.762   \n",
       "4       60.0     None     60.548   \n",
       "...      ...      ...        ...   \n",
       "22038   65.0     None     65.610   \n",
       "22039   86.0     None     86.657   \n",
       "22040  157.0     None    157.400   \n",
       "22041  405.0     None    405.901   \n",
       "22042  412.0     None    412.779   \n",
       "\n",
       "                                            station_geom  \n",
       "0      0101000020E61000008195438B6C5F6040DBF97E6ABCF4...  \n",
       "1      0101000020E61000004E621058395C604083C0CAA145B6...  \n",
       "2      0101000020E610000037894160E5D032402DB29DEFA716...  \n",
       "3      0101000020E61000006891ED7C3F5535401904560E2D42...  \n",
       "4      0101000020E6100000AE47E17A142E30403108AC1C5A54...  \n",
       "...                                                  ...  \n",
       "22038  0101000020E6100000AC1C5A643B5F1840AAF1D24D6240...  \n",
       "22039  0101000020E6100000FCA9F1D24D621840C74B37894140...  \n",
       "22040  0101000020E6100000EC51B81E856B3440D7A3703D0A07...  \n",
       "22041  0101000020E6100000DF4F8D976E323340F2D24D6210D8...  \n",
       "22042  0101000020E6100000DBF97E6ABC3433400E2DB29DEFD7...  \n",
       "\n",
       "[22043 rows x 11 columns]"
      ]
     },
     "execution_count": 20,
     "metadata": {},
     "output_type": "execute_result"
    }
   ],
   "source": [
    "table = myConnection.getTableListing(schemaName='solidearth', tableName='gps_station')\n",
    "table"
   ]
  },
  {
   "cell_type": "markdown",
   "id": "4fbcbaf6-a403-47c4-ae2d-8fdf7302d1fa",
   "metadata": {},
   "source": [
    "The site data table is retrieved as:"
   ]
  },
  {
   "cell_type": "code",
   "execution_count": 21,
   "id": "ea6797ca-f235-4c61-91c9-561a09198d76",
   "metadata": {},
   "outputs": [
    {
     "name": "stdout",
     "output_type": "stream",
     "text": [
      "SELECT * FROM solidearth.site ;\n"
     ]
    },
    {
     "data": {
      "text/html": [
       "<div>\n",
       "<style scoped>\n",
       "    .dataframe tbody tr th:only-of-type {\n",
       "        vertical-align: middle;\n",
       "    }\n",
       "\n",
       "    .dataframe tbody tr th {\n",
       "        vertical-align: top;\n",
       "    }\n",
       "\n",
       "    .dataframe thead th {\n",
       "        text-align: right;\n",
       "    }\n",
       "</style>\n",
       "<table border=\"1\" class=\"dataframe\">\n",
       "  <thead>\n",
       "    <tr style=\"text-align: right;\">\n",
       "      <th></th>\n",
       "      <th>site_id</th>\n",
       "      <th>site_name</th>\n",
       "      <th>date_from</th>\n",
       "      <th>date_to</th>\n",
       "      <th>seasonal</th>\n",
       "      <th>bbox_latmin</th>\n",
       "      <th>bbox_latmax</th>\n",
       "      <th>bbox_lonmin</th>\n",
       "      <th>bbox_lonmax</th>\n",
       "      <th>site_location</th>\n",
       "      <th>category</th>\n",
       "      <th>area_sqkm</th>\n",
       "      <th>climate</th>\n",
       "      <th>characteristics</th>\n",
       "      <th>cGPS</th>\n",
       "      <th>koppen_index</th>\n",
       "    </tr>\n",
       "  </thead>\n",
       "  <tbody>\n",
       "    <tr>\n",
       "      <th>0</th>\n",
       "      <td>5</td>\n",
       "      <td>Central Valley CA</td>\n",
       "      <td>2001-01-01</td>\n",
       "      <td>2030-12-31</td>\n",
       "      <td>True</td>\n",
       "      <td>34.9</td>\n",
       "      <td>36.9</td>\n",
       "      <td>-120.8</td>\n",
       "      <td>-119.0</td>\n",
       "      <td>0106000020E61000000100000001030000000100000005...</td>\n",
       "      <td>Desert, Scrub, Savanna</td>\n",
       "      <td>35900</td>\n",
       "      <td>Hot Mediterranean, Cold Desert</td>\n",
       "      <td>agriculture, high soil moisture variability, n...</td>\n",
       "      <td>135</td>\n",
       "      <td>Csa, BWk</td>\n",
       "    </tr>\n",
       "    <tr>\n",
       "      <th>1</th>\n",
       "      <td>6</td>\n",
       "      <td>Los Angeles Basin</td>\n",
       "      <td>2001-01-01</td>\n",
       "      <td>2023-12-31</td>\n",
       "      <td>True</td>\n",
       "      <td>33.4</td>\n",
       "      <td>34.5</td>\n",
       "      <td>-119.0</td>\n",
       "      <td>-117.4</td>\n",
       "      <td>0106000020E61000000100000001030000000100000005...</td>\n",
       "      <td>Desert, Scrub, Savanna</td>\n",
       "      <td>17900</td>\n",
       "      <td>Hot Mediterranean, Hot Steppe</td>\n",
       "      <td>urban, range of relief and decorrelation sourc...</td>\n",
       "      <td>177</td>\n",
       "      <td>Csa, BSh</td>\n",
       "    </tr>\n",
       "    <tr>\n",
       "      <th>2</th>\n",
       "      <td>7</td>\n",
       "      <td>Mojave Desert</td>\n",
       "      <td>2001-01-01</td>\n",
       "      <td>2023-12-31</td>\n",
       "      <td>True</td>\n",
       "      <td>34.5</td>\n",
       "      <td>35.7</td>\n",
       "      <td>-116.5</td>\n",
       "      <td>-114.2</td>\n",
       "      <td>0106000020E61000000100000001030000000100000005...</td>\n",
       "      <td>Desert, Scrub, Savanna</td>\n",
       "      <td>27800</td>\n",
       "      <td>Hot desert</td>\n",
       "      <td>arid, moderate relief, little transient deform...</td>\n",
       "      <td>38</td>\n",
       "      <td>BWh</td>\n",
       "    </tr>\n",
       "    <tr>\n",
       "      <th>3</th>\n",
       "      <td>8</td>\n",
       "      <td>Long Valley Caldera</td>\n",
       "      <td>2001-01-01</td>\n",
       "      <td>2023-12-31</td>\n",
       "      <td>True</td>\n",
       "      <td>37.1</td>\n",
       "      <td>38.2</td>\n",
       "      <td>-119.5</td>\n",
       "      <td>-118.1</td>\n",
       "      <td>0106000020E61000000100000001030000000100000005...</td>\n",
       "      <td>Desert, Scrub, Savanna</td>\n",
       "      <td>15000</td>\n",
       "      <td>Cold Steppe, Warm Mediterranean</td>\n",
       "      <td>variable relief, snow, land cover, tectonics a...</td>\n",
       "      <td>63</td>\n",
       "      <td>BSk, Csb</td>\n",
       "    </tr>\n",
       "    <tr>\n",
       "      <th>4</th>\n",
       "      <td>9</td>\n",
       "      <td>Mejillones Chile</td>\n",
       "      <td>2001-01-01</td>\n",
       "      <td>2023-12-31</td>\n",
       "      <td>True</td>\n",
       "      <td>-24.0</td>\n",
       "      <td>-22.0</td>\n",
       "      <td>-70.7</td>\n",
       "      <td>-67.0</td>\n",
       "      <td>0106000020E61000000100000001030000000100000005...</td>\n",
       "      <td>Desert, Scrub, Savanna</td>\n",
       "      <td>84200</td>\n",
       "      <td>Cold Desert</td>\n",
       "      <td>hyper-arid, ionosphere, large relief, change i...</td>\n",
       "      <td>21</td>\n",
       "      <td>BWk</td>\n",
       "    </tr>\n",
       "    <tr>\n",
       "      <th>5</th>\n",
       "      <td>10</td>\n",
       "      <td>Western Oregon</td>\n",
       "      <td>2001-01-01</td>\n",
       "      <td>2023-12-31</td>\n",
       "      <td>True</td>\n",
       "      <td>43.5</td>\n",
       "      <td>45.5</td>\n",
       "      <td>-124.4</td>\n",
       "      <td>-121.5</td>\n",
       "      <td>0106000020E61000000100000001030000000100000005...</td>\n",
       "      <td>Mixed Forest\\n\\n</td>\n",
       "      <td>51200</td>\n",
       "      <td>Warm Mediterranean</td>\n",
       "      <td>big trees, forests, winter rainfall</td>\n",
       "      <td>92</td>\n",
       "      <td>Csb</td>\n",
       "    </tr>\n",
       "    <tr>\n",
       "      <th>6</th>\n",
       "      <td>11</td>\n",
       "      <td>Hokkaido Japan</td>\n",
       "      <td>2001-01-01</td>\n",
       "      <td>2023-12-31</td>\n",
       "      <td>True</td>\n",
       "      <td>41.8</td>\n",
       "      <td>44.4</td>\n",
       "      <td>139.8</td>\n",
       "      <td>143.3</td>\n",
       "      <td>0106000020E61000000100000001030000000100000005...</td>\n",
       "      <td>Mixed Forest\\n\\n</td>\n",
       "      <td>82000</td>\n",
       "      <td>Humid Continental</td>\n",
       "      <td>snowfall, forests, tectonics, agriculture</td>\n",
       "      <td>106</td>\n",
       "      <td>Dfb</td>\n",
       "    </tr>\n",
       "    <tr>\n",
       "      <th>7</th>\n",
       "      <td>12</td>\n",
       "      <td>Houston Galveston</td>\n",
       "      <td>2001-01-01</td>\n",
       "      <td>2023-12-31</td>\n",
       "      <td>True</td>\n",
       "      <td>28.5</td>\n",
       "      <td>31.0</td>\n",
       "      <td>-97.3</td>\n",
       "      <td>-93.5</td>\n",
       "      <td>0106000020E61000000100000001030000000100000005...</td>\n",
       "      <td>Mixed Forest\\n\\n</td>\n",
       "      <td>102100</td>\n",
       "      <td>Humid Subtropical</td>\n",
       "      <td>continental climate, subsidence, variable land...</td>\n",
       "      <td>183</td>\n",
       "      <td>Cfa</td>\n",
       "    </tr>\n",
       "    <tr>\n",
       "      <th>8</th>\n",
       "      <td>13</td>\n",
       "      <td>Big Island Hawaii</td>\n",
       "      <td>2001-01-01</td>\n",
       "      <td>2023-12-31</td>\n",
       "      <td>True</td>\n",
       "      <td>18.9</td>\n",
       "      <td>20.3</td>\n",
       "      <td>-156.2</td>\n",
       "      <td>-154.7</td>\n",
       "      <td>0106000020E61000000100000001030000000100000005...</td>\n",
       "      <td>Maritime\\n</td>\n",
       "      <td>24400</td>\n",
       "      <td>Rainforest, Temperate Oceanic</td>\n",
       "      <td>active lava flows, variable relief, tropical c...</td>\n",
       "      <td>99</td>\n",
       "      <td>Af, Cfb</td>\n",
       "    </tr>\n",
       "    <tr>\n",
       "      <th>9</th>\n",
       "      <td>14</td>\n",
       "      <td>North Island New Zealand</td>\n",
       "      <td>2001-01-01</td>\n",
       "      <td>2023-12-31</td>\n",
       "      <td>True</td>\n",
       "      <td>-40.6</td>\n",
       "      <td>-37.0</td>\n",
       "      <td>173.6</td>\n",
       "      <td>176.2</td>\n",
       "      <td>0106000020E61000000100000001030000000100000005...</td>\n",
       "      <td>Maritime\\n</td>\n",
       "      <td>90500</td>\n",
       "      <td>Temperate Oceanic</td>\n",
       "      <td>tectonics and volcanos, maritime, southern lat...</td>\n",
       "      <td>58</td>\n",
       "      <td>Cfb</td>\n",
       "    </tr>\n",
       "  </tbody>\n",
       "</table>\n",
       "</div>"
      ],
      "text/plain": [
       "   site_id                 site_name   date_from     date_to  seasonal  \\\n",
       "0        5         Central Valley CA  2001-01-01  2030-12-31      True   \n",
       "1        6         Los Angeles Basin  2001-01-01  2023-12-31      True   \n",
       "2        7             Mojave Desert  2001-01-01  2023-12-31      True   \n",
       "3        8       Long Valley Caldera  2001-01-01  2023-12-31      True   \n",
       "4        9          Mejillones Chile  2001-01-01  2023-12-31      True   \n",
       "5       10            Western Oregon  2001-01-01  2023-12-31      True   \n",
       "6       11            Hokkaido Japan  2001-01-01  2023-12-31      True   \n",
       "7       12         Houston Galveston  2001-01-01  2023-12-31      True   \n",
       "8       13         Big Island Hawaii  2001-01-01  2023-12-31      True   \n",
       "9       14  North Island New Zealand  2001-01-01  2023-12-31      True   \n",
       "\n",
       "   bbox_latmin  bbox_latmax  bbox_lonmin  bbox_lonmax  \\\n",
       "0         34.9         36.9       -120.8       -119.0   \n",
       "1         33.4         34.5       -119.0       -117.4   \n",
       "2         34.5         35.7       -116.5       -114.2   \n",
       "3         37.1         38.2       -119.5       -118.1   \n",
       "4        -24.0        -22.0        -70.7        -67.0   \n",
       "5         43.5         45.5       -124.4       -121.5   \n",
       "6         41.8         44.4        139.8        143.3   \n",
       "7         28.5         31.0        -97.3        -93.5   \n",
       "8         18.9         20.3       -156.2       -154.7   \n",
       "9        -40.6        -37.0        173.6        176.2   \n",
       "\n",
       "                                       site_location                category  \\\n",
       "0  0106000020E61000000100000001030000000100000005...  Desert, Scrub, Savanna   \n",
       "1  0106000020E61000000100000001030000000100000005...  Desert, Scrub, Savanna   \n",
       "2  0106000020E61000000100000001030000000100000005...  Desert, Scrub, Savanna   \n",
       "3  0106000020E61000000100000001030000000100000005...  Desert, Scrub, Savanna   \n",
       "4  0106000020E61000000100000001030000000100000005...  Desert, Scrub, Savanna   \n",
       "5  0106000020E61000000100000001030000000100000005...        Mixed Forest\\n\\n   \n",
       "6  0106000020E61000000100000001030000000100000005...        Mixed Forest\\n\\n   \n",
       "7  0106000020E61000000100000001030000000100000005...        Mixed Forest\\n\\n   \n",
       "8  0106000020E61000000100000001030000000100000005...              Maritime\\n   \n",
       "9  0106000020E61000000100000001030000000100000005...              Maritime\\n   \n",
       "\n",
       "  area_sqkm                          climate  \\\n",
       "0     35900   Hot Mediterranean, Cold Desert   \n",
       "1     17900    Hot Mediterranean, Hot Steppe   \n",
       "2     27800                       Hot desert   \n",
       "3     15000  Cold Steppe, Warm Mediterranean   \n",
       "4     84200                      Cold Desert   \n",
       "5     51200               Warm Mediterranean   \n",
       "6     82000                Humid Continental   \n",
       "7    102100                Humid Subtropical   \n",
       "8     24400    Rainforest, Temperate Oceanic   \n",
       "9     90500                Temperate Oceanic   \n",
       "\n",
       "                                     characteristics  cGPS koppen_index  \n",
       "0  agriculture, high soil moisture variability, n...   135     Csa, BWk  \n",
       "1  urban, range of relief and decorrelation sourc...   177     Csa, BSh  \n",
       "2  arid, moderate relief, little transient deform...    38          BWh  \n",
       "3  variable relief, snow, land cover, tectonics a...    63     BSk, Csb  \n",
       "4  hyper-arid, ionosphere, large relief, change i...    21          BWk  \n",
       "5                big trees, forests, winter rainfall    92          Csb  \n",
       "6          snowfall, forests, tectonics, agriculture   106          Dfb  \n",
       "7  continental climate, subsidence, variable land...   183          Cfa  \n",
       "8  active lava flows, variable relief, tropical c...    99      Af, Cfb  \n",
       "9  tectonics and volcanos, maritime, southern lat...    58          Cfb  "
      ]
     },
     "execution_count": 21,
     "metadata": {},
     "output_type": "execute_result"
    }
   ],
   "source": [
    "myConnection.getTableListing(schemaName='solidearth', tableName='site')"
   ]
  },
  {
   "cell_type": "markdown",
   "id": "f4d92118-b0a1-4834-bbff-5e6a9d6a8459",
   "metadata": {},
   "source": [
    "To filter the sites for matches to a column(s), call with filters dict. In this example, the `%Humid%` indicates a wild card, so any value from the **climate** colum with the substring `Humid` will be selected."
   ]
  },
  {
   "cell_type": "code",
   "execution_count": 22,
   "id": "a93149e1-8908-4593-8079-75734de98ea6",
   "metadata": {},
   "outputs": [
    {
     "name": "stdout",
     "output_type": "stream",
     "text": [
      "climate\n",
      "SELECT * FROM solidearth.site  WHERE climate LIKE %(climate)s;\n"
     ]
    },
    {
     "data": {
      "text/html": [
       "<div>\n",
       "<style scoped>\n",
       "    .dataframe tbody tr th:only-of-type {\n",
       "        vertical-align: middle;\n",
       "    }\n",
       "\n",
       "    .dataframe tbody tr th {\n",
       "        vertical-align: top;\n",
       "    }\n",
       "\n",
       "    .dataframe thead th {\n",
       "        text-align: right;\n",
       "    }\n",
       "</style>\n",
       "<table border=\"1\" class=\"dataframe\">\n",
       "  <thead>\n",
       "    <tr style=\"text-align: right;\">\n",
       "      <th></th>\n",
       "      <th>site_id</th>\n",
       "      <th>site_name</th>\n",
       "      <th>date_from</th>\n",
       "      <th>date_to</th>\n",
       "      <th>seasonal</th>\n",
       "      <th>bbox_latmin</th>\n",
       "      <th>bbox_latmax</th>\n",
       "      <th>bbox_lonmin</th>\n",
       "      <th>bbox_lonmax</th>\n",
       "      <th>site_location</th>\n",
       "      <th>category</th>\n",
       "      <th>area_sqkm</th>\n",
       "      <th>climate</th>\n",
       "      <th>characteristics</th>\n",
       "      <th>cGPS</th>\n",
       "      <th>koppen_index</th>\n",
       "    </tr>\n",
       "  </thead>\n",
       "  <tbody>\n",
       "    <tr>\n",
       "      <th>0</th>\n",
       "      <td>11</td>\n",
       "      <td>Hokkaido Japan</td>\n",
       "      <td>2001-01-01</td>\n",
       "      <td>2023-12-31</td>\n",
       "      <td>True</td>\n",
       "      <td>41.8</td>\n",
       "      <td>44.4</td>\n",
       "      <td>139.8</td>\n",
       "      <td>143.3</td>\n",
       "      <td>0106000020E61000000100000001030000000100000005...</td>\n",
       "      <td>Mixed Forest\\n\\n</td>\n",
       "      <td>82000</td>\n",
       "      <td>Humid Continental</td>\n",
       "      <td>snowfall, forests, tectonics, agriculture</td>\n",
       "      <td>106</td>\n",
       "      <td>Dfb</td>\n",
       "    </tr>\n",
       "    <tr>\n",
       "      <th>1</th>\n",
       "      <td>12</td>\n",
       "      <td>Houston Galveston</td>\n",
       "      <td>2001-01-01</td>\n",
       "      <td>2023-12-31</td>\n",
       "      <td>True</td>\n",
       "      <td>28.5</td>\n",
       "      <td>31.0</td>\n",
       "      <td>-97.3</td>\n",
       "      <td>-93.5</td>\n",
       "      <td>0106000020E61000000100000001030000000100000005...</td>\n",
       "      <td>Mixed Forest\\n\\n</td>\n",
       "      <td>102100</td>\n",
       "      <td>Humid Subtropical</td>\n",
       "      <td>continental climate, subsidence, variable land...</td>\n",
       "      <td>183</td>\n",
       "      <td>Cfa</td>\n",
       "    </tr>\n",
       "  </tbody>\n",
       "</table>\n",
       "</div>"
      ],
      "text/plain": [
       "   site_id          site_name   date_from     date_to  seasonal  bbox_latmin  \\\n",
       "0       11     Hokkaido Japan  2001-01-01  2023-12-31      True         41.8   \n",
       "1       12  Houston Galveston  2001-01-01  2023-12-31      True         28.5   \n",
       "\n",
       "   bbox_latmax  bbox_lonmin  bbox_lonmax  \\\n",
       "0         44.4        139.8        143.3   \n",
       "1         31.0        -97.3        -93.5   \n",
       "\n",
       "                                       site_location          category  \\\n",
       "0  0106000020E61000000100000001030000000100000005...  Mixed Forest\\n\\n   \n",
       "1  0106000020E61000000100000001030000000100000005...  Mixed Forest\\n\\n   \n",
       "\n",
       "  area_sqkm            climate  \\\n",
       "0     82000  Humid Continental   \n",
       "1    102100  Humid Subtropical   \n",
       "\n",
       "                                     characteristics  cGPS koppen_index  \n",
       "0          snowfall, forests, tectonics, agriculture   106          Dfb  \n",
       "1  continental climate, subsidence, variable land...   183          Cfa  "
      ]
     },
     "execution_count": 22,
     "metadata": {},
     "output_type": "execute_result"
    }
   ],
   "source": [
    "myConnection.getTableListing(schemaName='solidearth', tableName='site', filters={'climate': '%Humid%'})"
   ]
  },
  {
   "cell_type": "markdown",
   "id": "90b6d84b-8894-4be7-bfc3-8d83dab9da84",
   "metadata": {},
   "source": [
    "Similarly, to select sites with **category** `Desert` and **climate** `hot`, the query would be:"
   ]
  },
  {
   "cell_type": "code",
   "execution_count": 23,
   "id": "f89b24e7-b838-4937-83d4-f646a043c0c3",
   "metadata": {},
   "outputs": [
    {
     "name": "stdout",
     "output_type": "stream",
     "text": [
      "category\n",
      "climate\n",
      "SELECT * FROM solidearth.site  WHERE category LIKE %(category)s AND climate LIKE %(climate)s;\n"
     ]
    },
    {
     "data": {
      "text/html": [
       "<div>\n",
       "<style scoped>\n",
       "    .dataframe tbody tr th:only-of-type {\n",
       "        vertical-align: middle;\n",
       "    }\n",
       "\n",
       "    .dataframe tbody tr th {\n",
       "        vertical-align: top;\n",
       "    }\n",
       "\n",
       "    .dataframe thead th {\n",
       "        text-align: right;\n",
       "    }\n",
       "</style>\n",
       "<table border=\"1\" class=\"dataframe\">\n",
       "  <thead>\n",
       "    <tr style=\"text-align: right;\">\n",
       "      <th></th>\n",
       "      <th>site_id</th>\n",
       "      <th>site_name</th>\n",
       "      <th>date_from</th>\n",
       "      <th>date_to</th>\n",
       "      <th>seasonal</th>\n",
       "      <th>bbox_latmin</th>\n",
       "      <th>bbox_latmax</th>\n",
       "      <th>bbox_lonmin</th>\n",
       "      <th>bbox_lonmax</th>\n",
       "      <th>site_location</th>\n",
       "      <th>category</th>\n",
       "      <th>area_sqkm</th>\n",
       "      <th>climate</th>\n",
       "      <th>characteristics</th>\n",
       "      <th>cGPS</th>\n",
       "      <th>koppen_index</th>\n",
       "    </tr>\n",
       "  </thead>\n",
       "  <tbody>\n",
       "    <tr>\n",
       "      <th>0</th>\n",
       "      <td>5</td>\n",
       "      <td>Central Valley CA</td>\n",
       "      <td>2001-01-01</td>\n",
       "      <td>2030-12-31</td>\n",
       "      <td>True</td>\n",
       "      <td>34.9</td>\n",
       "      <td>36.9</td>\n",
       "      <td>-120.8</td>\n",
       "      <td>-119.0</td>\n",
       "      <td>0106000020E61000000100000001030000000100000005...</td>\n",
       "      <td>Desert, Scrub, Savanna</td>\n",
       "      <td>35900</td>\n",
       "      <td>Hot Mediterranean, Cold Desert</td>\n",
       "      <td>agriculture, high soil moisture variability, n...</td>\n",
       "      <td>135</td>\n",
       "      <td>Csa, BWk</td>\n",
       "    </tr>\n",
       "    <tr>\n",
       "      <th>1</th>\n",
       "      <td>6</td>\n",
       "      <td>Los Angeles Basin</td>\n",
       "      <td>2001-01-01</td>\n",
       "      <td>2023-12-31</td>\n",
       "      <td>True</td>\n",
       "      <td>33.4</td>\n",
       "      <td>34.5</td>\n",
       "      <td>-119.0</td>\n",
       "      <td>-117.4</td>\n",
       "      <td>0106000020E61000000100000001030000000100000005...</td>\n",
       "      <td>Desert, Scrub, Savanna</td>\n",
       "      <td>17900</td>\n",
       "      <td>Hot Mediterranean, Hot Steppe</td>\n",
       "      <td>urban, range of relief and decorrelation sourc...</td>\n",
       "      <td>177</td>\n",
       "      <td>Csa, BSh</td>\n",
       "    </tr>\n",
       "    <tr>\n",
       "      <th>2</th>\n",
       "      <td>7</td>\n",
       "      <td>Mojave Desert</td>\n",
       "      <td>2001-01-01</td>\n",
       "      <td>2023-12-31</td>\n",
       "      <td>True</td>\n",
       "      <td>34.5</td>\n",
       "      <td>35.7</td>\n",
       "      <td>-116.5</td>\n",
       "      <td>-114.2</td>\n",
       "      <td>0106000020E61000000100000001030000000100000005...</td>\n",
       "      <td>Desert, Scrub, Savanna</td>\n",
       "      <td>27800</td>\n",
       "      <td>Hot desert</td>\n",
       "      <td>arid, moderate relief, little transient deform...</td>\n",
       "      <td>38</td>\n",
       "      <td>BWh</td>\n",
       "    </tr>\n",
       "  </tbody>\n",
       "</table>\n",
       "</div>"
      ],
      "text/plain": [
       "   site_id          site_name   date_from     date_to  seasonal  bbox_latmin  \\\n",
       "0        5  Central Valley CA  2001-01-01  2030-12-31      True         34.9   \n",
       "1        6  Los Angeles Basin  2001-01-01  2023-12-31      True         33.4   \n",
       "2        7      Mojave Desert  2001-01-01  2023-12-31      True         34.5   \n",
       "\n",
       "   bbox_latmax  bbox_lonmin  bbox_lonmax  \\\n",
       "0         36.9       -120.8       -119.0   \n",
       "1         34.5       -119.0       -117.4   \n",
       "2         35.7       -116.5       -114.2   \n",
       "\n",
       "                                       site_location                category  \\\n",
       "0  0106000020E61000000100000001030000000100000005...  Desert, Scrub, Savanna   \n",
       "1  0106000020E61000000100000001030000000100000005...  Desert, Scrub, Savanna   \n",
       "2  0106000020E61000000100000001030000000100000005...  Desert, Scrub, Savanna   \n",
       "\n",
       "  area_sqkm                         climate  \\\n",
       "0     35900  Hot Mediterranean, Cold Desert   \n",
       "1     17900   Hot Mediterranean, Hot Steppe   \n",
       "2     27800                      Hot desert   \n",
       "\n",
       "                                     characteristics  cGPS koppen_index  \n",
       "0  agriculture, high soil moisture variability, n...   135     Csa, BWk  \n",
       "1  urban, range of relief and decorrelation sourc...   177     Csa, BSh  \n",
       "2  arid, moderate relief, little transient deform...    38          BWh  "
      ]
     },
     "execution_count": 23,
     "metadata": {},
     "output_type": "execute_result"
    }
   ],
   "source": [
    "myConnection.getTableListing(schemaName='solidearth', tableName='site', filters={'category': '%Desert%', 'climate': '%Hot%'})"
   ]
  },
  {
   "cell_type": "code",
   "execution_count": 24,
   "id": "c558807c-c111-4b64-9675-5861c60b0aa9",
   "metadata": {},
   "outputs": [
    {
     "name": "stdout",
     "output_type": "stream",
     "text": [
      "SELECT * FROM solidearth.interferogram ;\n"
     ]
    },
    {
     "data": {
      "text/html": [
       "<div>\n",
       "<style scoped>\n",
       "    .dataframe tbody tr th:only-of-type {\n",
       "        vertical-align: middle;\n",
       "    }\n",
       "\n",
       "    .dataframe tbody tr th {\n",
       "        vertical-align: top;\n",
       "    }\n",
       "\n",
       "    .dataframe thead th {\n",
       "        text-align: right;\n",
       "    }\n",
       "</style>\n",
       "<table border=\"1\" class=\"dataframe\">\n",
       "  <thead>\n",
       "    <tr style=\"text-align: right;\">\n",
       "      <th></th>\n",
       "      <th>interferogram_id</th>\n",
       "      <th>site_id</th>\n",
       "      <th>track_frame_id</th>\n",
       "      <th>obs_mode</th>\n",
       "      <th>polarization</th>\n",
       "      <th>bandwidth_pri</th>\n",
       "      <th>bandwidth_sec</th>\n",
       "      <th>product_type</th>\n",
       "      <th>product_path</th>\n",
       "      <th>creator</th>\n",
       "      <th>...</th>\n",
       "      <th>repeat_date</th>\n",
       "      <th>isce_version</th>\n",
       "      <th>producer</th>\n",
       "      <th>config_file_path</th>\n",
       "      <th>date_created</th>\n",
       "      <th>granule_name</th>\n",
       "      <th>cycles_apart</th>\n",
       "      <th>band</th>\n",
       "      <th>input_type</th>\n",
       "      <th>archived</th>\n",
       "    </tr>\n",
       "  </thead>\n",
       "  <tbody>\n",
       "    <tr>\n",
       "      <th>0</th>\n",
       "      <td>1</td>\n",
       "      <td>None</td>\n",
       "      <td>L001_F001_AF</td>\n",
       "      <td>None</td>\n",
       "      <td>HH</td>\n",
       "      <td>20</td>\n",
       "      <td>20</td>\n",
       "      <td>GUNW</td>\n",
       "      <td>test</td>\n",
       "      <td>user1</td>\n",
       "      <td>...</td>\n",
       "      <td>2024-01-01 00:00:00+00:00</td>\n",
       "      <td>0.18</td>\n",
       "      <td>custom</td>\n",
       "      <td>test</td>\n",
       "      <td>2024-06-01 00:00:00+00:00</td>\n",
       "      <td>test</td>\n",
       "      <td>10</td>\n",
       "      <td>L</td>\n",
       "      <td>ALOS</td>\n",
       "      <td>ready</td>\n",
       "    </tr>\n",
       "  </tbody>\n",
       "</table>\n",
       "<p>1 rows × 21 columns</p>\n",
       "</div>"
      ],
      "text/plain": [
       "   interferogram_id site_id track_frame_id obs_mode polarization  \\\n",
       "0                 1    None   L001_F001_AF     None           HH   \n",
       "\n",
       "  bandwidth_pri bandwidth_sec product_type product_path creator  ...  \\\n",
       "0            20            20         GUNW         test   user1  ...   \n",
       "\n",
       "                repeat_date isce_version producer config_file_path  \\\n",
       "0 2024-01-01 00:00:00+00:00         0.18   custom             test   \n",
       "\n",
       "               date_created granule_name cycles_apart  band input_type  \\\n",
       "0 2024-06-01 00:00:00+00:00         test           10     L       ALOS   \n",
       "\n",
       "  archived  \n",
       "0    ready  \n",
       "\n",
       "[1 rows x 21 columns]"
      ]
     },
     "execution_count": 24,
     "metadata": {},
     "output_type": "execute_result"
    }
   ],
   "source": [
    "myConnection.getTableListing(schemaName='solidearth', tableName='interferogram')"
   ]
  },
  {
   "cell_type": "markdown",
   "id": "b09c6713-a2d5-4fa0-84e6-5a136371b4fa",
   "metadata": {},
   "source": [
    "## Station Name to ID"
   ]
  },
  {
   "cell_type": "markdown",
   "id": "2a4df152-e5ed-4030-b95c-d604e8cb8668",
   "metadata": {},
   "source": [
    "Determine the station ID (e.g., 16156) from the station name (e.g., LIZY). This translation is needed to map the station name to station id needed to index the table above."
   ]
  },
  {
   "cell_type": "code",
   "execution_count": 25,
   "id": "de594b00-91c3-406f-ab6b-b00369c16331",
   "metadata": {},
   "outputs": [
    {
     "data": {
      "text/plain": [
       "16516"
      ]
     },
     "execution_count": 25,
     "metadata": {},
     "output_type": "execute_result"
    }
   ],
   "source": [
    "myConnection.stationNameToID('LIZY', schemaName='solidearth')"
   ]
  },
  {
   "cell_type": "markdown",
   "id": "6a7782d3-260b-4535-90fe-3b7baf01e56a",
   "metadata": {},
   "source": [
    "## Get GPS Data for Date Range"
   ]
  },
  {
   "cell_type": "markdown",
   "id": "ac04c895-57dc-4af4-b506-7d54111e399f",
   "metadata": {},
   "source": [
    "Return all the data for a designated station for the decimal date range (d1, d2). This next cell could take a minute or more to query the DB. "
   ]
  },
  {
   "cell_type": "code",
   "execution_count": 28,
   "id": "d057ba8f-6517-47ff-8352-1c55902f361b",
   "metadata": {},
   "outputs": [
    {
     "name": "stdout",
     "output_type": "stream",
     "text": [
      "CPU times: user 7.62 ms, sys: 350 µs, total: 7.97 ms\n",
      "Wall time: 1min 15s\n"
     ]
    },
    {
     "data": {
      "text/html": [
       "<div>\n",
       "<style scoped>\n",
       "    .dataframe tbody tr th:only-of-type {\n",
       "        vertical-align: middle;\n",
       "    }\n",
       "\n",
       "    .dataframe tbody tr th {\n",
       "        vertical-align: top;\n",
       "    }\n",
       "\n",
       "    .dataframe thead th {\n",
       "        text-align: right;\n",
       "    }\n",
       "</style>\n",
       "<table border=\"1\" class=\"dataframe\">\n",
       "  <thead>\n",
       "    <tr style=\"text-align: right;\">\n",
       "      <th></th>\n",
       "      <th>measurement_id</th>\n",
       "      <th>station_id</th>\n",
       "      <th>gps_version_id</th>\n",
       "      <th>measurement_dt</th>\n",
       "      <th>decimal_year</th>\n",
       "      <th>east</th>\n",
       "      <th>north</th>\n",
       "      <th>up</th>\n",
       "      <th>ant</th>\n",
       "      <th>sig_e</th>\n",
       "      <th>sig_n</th>\n",
       "      <th>sig_u</th>\n",
       "      <th>corr_en</th>\n",
       "      <th>corr_eu</th>\n",
       "      <th>corr_nu</th>\n",
       "    </tr>\n",
       "  </thead>\n",
       "  <tbody>\n",
       "    <tr>\n",
       "      <th>0</th>\n",
       "      <td>32426694</td>\n",
       "      <td>16516</td>\n",
       "      <td>1</td>\n",
       "      <td>2019-01-01</td>\n",
       "      <td>2019.0007</td>\n",
       "      <td>0.268310</td>\n",
       "      <td>1.041053</td>\n",
       "      <td>0.163901</td>\n",
       "      <td>0.0</td>\n",
       "      <td>0.000729</td>\n",
       "      <td>0.001010</td>\n",
       "      <td>0.003054</td>\n",
       "      <td>0.027100</td>\n",
       "      <td>-0.007433</td>\n",
       "      <td>0.008353</td>\n",
       "    </tr>\n",
       "    <tr>\n",
       "      <th>1</th>\n",
       "      <td>32426695</td>\n",
       "      <td>16516</td>\n",
       "      <td>1</td>\n",
       "      <td>2019-01-02</td>\n",
       "      <td>2019.0034</td>\n",
       "      <td>0.268359</td>\n",
       "      <td>1.039897</td>\n",
       "      <td>0.161507</td>\n",
       "      <td>0.0</td>\n",
       "      <td>0.000752</td>\n",
       "      <td>0.001039</td>\n",
       "      <td>0.003136</td>\n",
       "      <td>0.001439</td>\n",
       "      <td>0.011485</td>\n",
       "      <td>0.012033</td>\n",
       "    </tr>\n",
       "    <tr>\n",
       "      <th>2</th>\n",
       "      <td>32426696</td>\n",
       "      <td>16516</td>\n",
       "      <td>1</td>\n",
       "      <td>2019-01-03</td>\n",
       "      <td>2019.0062</td>\n",
       "      <td>0.269582</td>\n",
       "      <td>1.040483</td>\n",
       "      <td>0.159832</td>\n",
       "      <td>0.0</td>\n",
       "      <td>0.000819</td>\n",
       "      <td>0.001158</td>\n",
       "      <td>0.003330</td>\n",
       "      <td>0.006994</td>\n",
       "      <td>0.026640</td>\n",
       "      <td>-0.002563</td>\n",
       "    </tr>\n",
       "    <tr>\n",
       "      <th>3</th>\n",
       "      <td>32426697</td>\n",
       "      <td>16516</td>\n",
       "      <td>1</td>\n",
       "      <td>2019-01-04</td>\n",
       "      <td>2019.0089</td>\n",
       "      <td>0.269202</td>\n",
       "      <td>1.040916</td>\n",
       "      <td>0.163606</td>\n",
       "      <td>0.0</td>\n",
       "      <td>0.000719</td>\n",
       "      <td>0.000996</td>\n",
       "      <td>0.002984</td>\n",
       "      <td>0.031598</td>\n",
       "      <td>0.002110</td>\n",
       "      <td>-0.017285</td>\n",
       "    </tr>\n",
       "    <tr>\n",
       "      <th>4</th>\n",
       "      <td>32426698</td>\n",
       "      <td>16516</td>\n",
       "      <td>1</td>\n",
       "      <td>2019-01-05</td>\n",
       "      <td>2019.0116</td>\n",
       "      <td>0.268687</td>\n",
       "      <td>1.040904</td>\n",
       "      <td>0.166563</td>\n",
       "      <td>0.0</td>\n",
       "      <td>0.000711</td>\n",
       "      <td>0.000975</td>\n",
       "      <td>0.002922</td>\n",
       "      <td>0.020957</td>\n",
       "      <td>0.006565</td>\n",
       "      <td>-0.042176</td>\n",
       "    </tr>\n",
       "    <tr>\n",
       "      <th>...</th>\n",
       "      <td>...</td>\n",
       "      <td>...</td>\n",
       "      <td>...</td>\n",
       "      <td>...</td>\n",
       "      <td>...</td>\n",
       "      <td>...</td>\n",
       "      <td>...</td>\n",
       "      <td>...</td>\n",
       "      <td>...</td>\n",
       "      <td>...</td>\n",
       "      <td>...</td>\n",
       "      <td>...</td>\n",
       "      <td>...</td>\n",
       "      <td>...</td>\n",
       "      <td>...</td>\n",
       "    </tr>\n",
       "    <tr>\n",
       "      <th>1037</th>\n",
       "      <td>32427731</td>\n",
       "      <td>16516</td>\n",
       "      <td>1</td>\n",
       "      <td>2021-11-13</td>\n",
       "      <td>2021.8672</td>\n",
       "      <td>0.321475</td>\n",
       "      <td>1.085974</td>\n",
       "      <td>0.166923</td>\n",
       "      <td>0.0</td>\n",
       "      <td>0.000991</td>\n",
       "      <td>0.001413</td>\n",
       "      <td>0.004178</td>\n",
       "      <td>0.007887</td>\n",
       "      <td>-0.063174</td>\n",
       "      <td>-0.130998</td>\n",
       "    </tr>\n",
       "    <tr>\n",
       "      <th>1038</th>\n",
       "      <td>32427732</td>\n",
       "      <td>16516</td>\n",
       "      <td>1</td>\n",
       "      <td>2021-11-14</td>\n",
       "      <td>2021.8700</td>\n",
       "      <td>0.321555</td>\n",
       "      <td>1.085070</td>\n",
       "      <td>0.174551</td>\n",
       "      <td>0.0</td>\n",
       "      <td>0.001123</td>\n",
       "      <td>0.001541</td>\n",
       "      <td>0.004437</td>\n",
       "      <td>-0.040131</td>\n",
       "      <td>-0.031423</td>\n",
       "      <td>-0.038598</td>\n",
       "    </tr>\n",
       "    <tr>\n",
       "      <th>1039</th>\n",
       "      <td>32427733</td>\n",
       "      <td>16516</td>\n",
       "      <td>1</td>\n",
       "      <td>2021-11-15</td>\n",
       "      <td>2021.8727</td>\n",
       "      <td>0.320230</td>\n",
       "      <td>1.085936</td>\n",
       "      <td>0.166855</td>\n",
       "      <td>0.0</td>\n",
       "      <td>0.001009</td>\n",
       "      <td>0.001509</td>\n",
       "      <td>0.004114</td>\n",
       "      <td>-0.059304</td>\n",
       "      <td>0.045762</td>\n",
       "      <td>-0.008213</td>\n",
       "    </tr>\n",
       "    <tr>\n",
       "      <th>1040</th>\n",
       "      <td>32427734</td>\n",
       "      <td>16516</td>\n",
       "      <td>1</td>\n",
       "      <td>2021-11-16</td>\n",
       "      <td>2021.8754</td>\n",
       "      <td>0.320142</td>\n",
       "      <td>1.087823</td>\n",
       "      <td>0.169328</td>\n",
       "      <td>0.0</td>\n",
       "      <td>0.000974</td>\n",
       "      <td>0.001294</td>\n",
       "      <td>0.003786</td>\n",
       "      <td>0.070651</td>\n",
       "      <td>-0.017929</td>\n",
       "      <td>-0.089931</td>\n",
       "    </tr>\n",
       "    <tr>\n",
       "      <th>1041</th>\n",
       "      <td>32427735</td>\n",
       "      <td>16516</td>\n",
       "      <td>1</td>\n",
       "      <td>2021-11-17</td>\n",
       "      <td>2021.8782</td>\n",
       "      <td>0.321387</td>\n",
       "      <td>1.090562</td>\n",
       "      <td>0.175832</td>\n",
       "      <td>0.0</td>\n",
       "      <td>0.001026</td>\n",
       "      <td>0.001386</td>\n",
       "      <td>0.004293</td>\n",
       "      <td>0.069962</td>\n",
       "      <td>-0.049558</td>\n",
       "      <td>-0.124610</td>\n",
       "    </tr>\n",
       "  </tbody>\n",
       "</table>\n",
       "<p>1042 rows × 15 columns</p>\n",
       "</div>"
      ],
      "text/plain": [
       "      measurement_id  station_id  gps_version_id measurement_dt  decimal_year  \\\n",
       "0           32426694       16516               1     2019-01-01     2019.0007   \n",
       "1           32426695       16516               1     2019-01-02     2019.0034   \n",
       "2           32426696       16516               1     2019-01-03     2019.0062   \n",
       "3           32426697       16516               1     2019-01-04     2019.0089   \n",
       "4           32426698       16516               1     2019-01-05     2019.0116   \n",
       "...              ...         ...             ...            ...           ...   \n",
       "1037        32427731       16516               1     2021-11-13     2021.8672   \n",
       "1038        32427732       16516               1     2021-11-14     2021.8700   \n",
       "1039        32427733       16516               1     2021-11-15     2021.8727   \n",
       "1040        32427734       16516               1     2021-11-16     2021.8754   \n",
       "1041        32427735       16516               1     2021-11-17     2021.8782   \n",
       "\n",
       "          east     north        up  ant     sig_e     sig_n     sig_u  \\\n",
       "0     0.268310  1.041053  0.163901  0.0  0.000729  0.001010  0.003054   \n",
       "1     0.268359  1.039897  0.161507  0.0  0.000752  0.001039  0.003136   \n",
       "2     0.269582  1.040483  0.159832  0.0  0.000819  0.001158  0.003330   \n",
       "3     0.269202  1.040916  0.163606  0.0  0.000719  0.000996  0.002984   \n",
       "4     0.268687  1.040904  0.166563  0.0  0.000711  0.000975  0.002922   \n",
       "...        ...       ...       ...  ...       ...       ...       ...   \n",
       "1037  0.321475  1.085974  0.166923  0.0  0.000991  0.001413  0.004178   \n",
       "1038  0.321555  1.085070  0.174551  0.0  0.001123  0.001541  0.004437   \n",
       "1039  0.320230  1.085936  0.166855  0.0  0.001009  0.001509  0.004114   \n",
       "1040  0.320142  1.087823  0.169328  0.0  0.000974  0.001294  0.003786   \n",
       "1041  0.321387  1.090562  0.175832  0.0  0.001026  0.001386  0.004293   \n",
       "\n",
       "       corr_en   corr_eu   corr_nu  \n",
       "0     0.027100 -0.007433  0.008353  \n",
       "1     0.001439  0.011485  0.012033  \n",
       "2     0.006994  0.026640 -0.002563  \n",
       "3     0.031598  0.002110 -0.017285  \n",
       "4     0.020957  0.006565 -0.042176  \n",
       "...        ...       ...       ...  \n",
       "1037  0.007887 -0.063174 -0.130998  \n",
       "1038 -0.040131 -0.031423 -0.038598  \n",
       "1039 -0.059304  0.045762 -0.008213  \n",
       "1040  0.070651 -0.017929 -0.089931  \n",
       "1041  0.069962 -0.049558 -0.124610  \n",
       "\n",
       "[1042 rows x 15 columns]"
      ]
     },
     "execution_count": 28,
     "metadata": {},
     "output_type": "execute_result"
    }
   ],
   "source": [
    "%%time\n",
    "d1 = 2019\n",
    "d2 = 2024\n",
    "myData = myConnection.getStationDateRangeData('LIZY', d1, d2, 'solidearth', 'gps_measurement')\n",
    "myData"
   ]
  },
  {
   "cell_type": "code",
   "execution_count": 27,
   "id": "eca9cc07-2a38-4473-91d9-cb932b30037d",
   "metadata": {},
   "outputs": [
    {
     "data": {
      "text/plain": [
       "[<matplotlib.lines.Line2D at 0x7ff1dc91a570>]"
      ]
     },
     "execution_count": 27,
     "metadata": {},
     "output_type": "execute_result"
    },
    {
     "data": {
      "image/png": "[encoded data removed]",
      "text/plain": [
       "<Figure size 640x480 with 1 Axes>"
      ]
     },
     "metadata": {},
     "output_type": "display_data"
    }
   ],
   "source": [
    "plt.plot(myData['east'], myData['north'], 'r.')"
   ]
  },
  {
   "cell_type": "markdown",
   "id": "b57e7b2b-dd6b-47ec-a277-bf1ab078f4d2",
   "metadata": {},
   "source": [
    "## Rollback a Query Error"
   ]
  },
  {
   "cell_type": "markdown",
   "id": "f3c4d817-c3c5-4183-a9db-774aa6b5904d",
   "metadata": {},
   "source": [
    "This will reset the connection after a query fails with an error. Most of the routines should trap errors and automatically rollback."
   ]
  },
  {
   "cell_type": "code",
   "execution_count": 27,
   "id": "652c20b7-9dcb-4fc3-a338-de3c26c3d1cb",
   "metadata": {},
   "outputs": [],
   "source": [
    "myConnection.connection.rollback()"
   ]
  },
  {
   "cell_type": "markdown",
   "id": "91507858-0874-48ef-a081-0cef7f18155a",
   "metadata": {},
   "source": [
    "## Close the connection"
   ]
  },
  {
   "cell_type": "markdown",
   "id": "ec220417-262c-4244-92b1-536a4502107f",
   "metadata": {},
   "source": [
    "Close the connection when finished."
   ]
  },
  {
   "cell_type": "code",
   "execution_count": 28,
   "id": "af931088-36c0-4762-885f-bd99dee455c5",
   "metadata": {},
   "outputs": [],
   "source": [
    "myConnection.close()"
   ]
  },
  {
   "cell_type": "code",
   "execution_count": null,
   "id": "733c6310-0273-4c7a-be28-24199de62630",
   "metadata": {},
   "outputs": [],
   "source": []
  }
 ],
 "metadata": {
  "kernelspec": {
   "display_name": "base",
   "language": "python",
   "name": "base"
  },
  "language_info": {
   "codemirror_mode": {
    "name": "ipython",
    "version": 3
   },
   "file_extension": ".py",
   "mimetype": "text/x-python",
   "name": "python",
   "nbconvert_exporter": "python",
   "pygments_lexer": "ipython3",
   "version": "3.12.2"
  }
 },
 "nbformat": 4,
 "nbformat_minor": 5
}
