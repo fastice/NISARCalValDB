{
 "cells": [
  {
   "cell_type": "markdown",
   "id": "a4009c32-3df3-479a-acd3-292396ced6a8",
   "metadata": {},
   "source": [
    "# Test Notebook for nisarcryodb applied to Solid Earth\n",
    "---"
   ]
  },
  {
   "cell_type": "markdown",
   "id": "4966aafa-6b7d-44ce-87b0-4d329323c571",
   "metadata": {},
   "source": [
    "This note book is used to develop, test, and document the  `nisarcryodb` class, which is used to query the NISAR cal/val db for GPS data from cryosphere validation sites.\n"
   ]
  },
  {
   "cell_type": "code",
   "execution_count": 1,
   "id": "973ece80-b9a1-441d-af15-f06b72f23778",
   "metadata": {},
   "outputs": [],
   "source": [
    "%load_ext autoreload\n",
    "%autoreload 2\n",
    "import nisarcryodb\n",
    "from psycopg2 import sql\n",
    "import matplotlib.pyplot as plt\n",
    "import numpy as np"
   ]
  },
  {
   "cell_type": "markdown",
   "id": "1dfa7449-170a-4212-9db9-6230e147f62b",
   "metadata": {},
   "source": [
    "## Initialize nisarcryodb Object"
   ]
  },
  {
   "cell_type": "markdown",
   "id": "570ba33d-c077-4195-a98f-bdbe5966f151",
   "metadata": {},
   "source": [
    "This step initializes the connection to the nisar cal/val data base. It requires a cal/val database user name and passwd."
   ]
  },
  {
   "cell_type": "code",
   "execution_count": 2,
   "id": "430c13a6-7734-49d3-8e17-9d7182b64f06",
   "metadata": {},
   "outputs": [
    {
     "name": "stdin",
     "output_type": "stream",
     "text": [
      "User name:  irj\n",
      "Password:  ········\n"
     ]
    }
   ],
   "source": [
    "myConnection = nisarcryodb.nisarcryodb()"
   ]
  },
  {
   "cell_type": "markdown",
   "id": "97f7a422-97c6-452b-9080-a0036e7c3a55",
   "metadata": {},
   "source": [
    "## List Schema"
   ]
  },
  {
   "cell_type": "markdown",
   "id": "a5a45e0e-4865-4076-a1c6-4fa7a8a1135c",
   "metadata": {},
   "source": [
    "List all of the schema in the database. "
   ]
  },
  {
   "cell_type": "code",
   "execution_count": 3,
   "id": "a6ade660-b5aa-461d-bc61-fcce6b07099e",
   "metadata": {},
   "outputs": [
    {
     "name": "stdout",
     "output_type": "stream",
     "text": [
      "crop_area\n",
      "pg_catalog\n",
      "information_schema\n",
      "soil_moisture\n",
      "inundation\n",
      "disturbance\n",
      "seaice\n",
      "biomass_save\n",
      "biomass\n",
      "pg_temp_8\n",
      "pg_toast_temp_8\n",
      "nisar\n",
      "permafrost\n",
      "sites\n",
      "tiger\n",
      "tiger_data\n",
      "topology\n",
      "public\n",
      "solidearth\n",
      "landice\n",
      "pg_temp_16\n",
      "pg_toast_temp_16\n",
      "corner_reflectors\n"
     ]
    }
   ],
   "source": [
    "schemas = myConnection.listSchema(quiet=False)"
   ]
  },
  {
   "cell_type": "markdown",
   "id": "0e2df424-de51-48d6-9840-6577e5fcfcc2",
   "metadata": {},
   "source": [
    "## List Table Names for Schema"
   ]
  },
  {
   "cell_type": "markdown",
   "id": "fed0d0cd-3e6c-4444-b8e8-bcd8b001cbc1",
   "metadata": {},
   "source": [
    "List the names of the table under the solidearth schema."
   ]
  },
  {
   "cell_type": "code",
   "execution_count": 4,
   "id": "2b7ac1ee-16a3-47c7-af2c-b7903e096eac",
   "metadata": {},
   "outputs": [
    {
     "name": "stdout",
     "output_type": "stream",
     "text": [
      "interferogram\n",
      "validation_run\n",
      "l3_product\n",
      "validation_run_intf\n",
      "validation_run_station\n",
      "test_site_table\n",
      "gps_version\n",
      "site\n",
      "gps_measurement\n",
      "gps_station\n"
     ]
    }
   ],
   "source": [
    "myConnection.listSchemaTableNames('solidearth');"
   ]
  },
  {
   "cell_type": "markdown",
   "id": "43d86472-d507-47b8-8c43-eeb14493c532",
   "metadata": {},
   "source": [
    "## List Column Names for Table"
   ]
  },
  {
   "cell_type": "markdown",
   "id": "50af3c77-4328-4227-9050-805c5e932d93",
   "metadata": {},
   "source": [
    "List the column names for a table (e.g., gps_station) and schema (e.g., landice)."
   ]
  },
  {
   "cell_type": "code",
   "execution_count": 5,
   "id": "48826cf5-04a0-481b-ac93-6e9e0ff2a9a0",
   "metadata": {},
   "outputs": [
    {
     "name": "stdout",
     "output_type": "stream",
     "text": [
      "station_id, site_id, station_name, reflat, reflon, east_0, north_0, up_0, refframe, refheight, station_geom\n"
     ]
    }
   ],
   "source": [
    "stationColumns = myConnection.listTableColumns('solidearth', 'gps_station', quiet=False)"
   ]
  },
  {
   "cell_type": "markdown",
   "id": "0aa6ccf8-3d1e-40ad-9c1d-bfc660fc14c5",
   "metadata": {},
   "source": [
    "This time get the columns for the `gps_measurement` table. Use `returnType=True` to get the data type for each column."
   ]
  },
  {
   "cell_type": "code",
   "execution_count": 6,
   "id": "fdbda132-f519-43f9-97a5-a1ef377d9bfc",
   "metadata": {},
   "outputs": [
    {
     "name": "stdout",
     "output_type": "stream",
     "text": [
      "measurement_id, station_id, gps_version_id, measurement_dt, decimal_year, east, north, up, ant, sig_e, sig_n, sig_u, corr_en, corr_eu, corr_nu\n",
      "integer, integer, integer, date, double precision, double precision, double precision, double precision, double precision, double precision, double precision, double precision, double precision, double precision, double precision\n"
     ]
    }
   ],
   "source": [
    "gpsColumns, gpsDataTypes = myConnection.listTableColumns('solidearth', 'gps_measurement', returnType=True)"
   ]
  },
  {
   "cell_type": "markdown",
   "id": "fc5f46a1-e626-48d9-bdb4-a2d378244f23",
   "metadata": {},
   "source": [
    "## List Column Values"
   ]
  },
  {
   "cell_type": "markdown",
   "id": "5efd32bf-c697-4e60-9479-7b86ea815593",
   "metadata": {},
   "source": [
    "Get the `station_name` column values for `solidearth.gps_station` tables "
   ]
  },
  {
   "cell_type": "code",
   "execution_count": 7,
   "id": "5aa122d4-825f-44f8-9482-ee3f53ab0364",
   "metadata": {},
   "outputs": [
    {
     "data": {
      "text/plain": [
       "['01NA',\n",
       " '02NA',\n",
       " '0ABI',\n",
       " '0ABN',\n",
       " '0ABY',\n",
       " '0AKE',\n",
       " '0ALE',\n",
       " '0ALF',\n",
       " '0ALI',\n",
       " '0ALM']"
      ]
     },
     "execution_count": 7,
     "metadata": {},
     "output_type": "execute_result"
    }
   ],
   "source": [
    "stationNames = myConnection.getColumn('solidearth', 'gps_station', 'station_name')\n",
    "stationNames[0:10]"
   ]
  },
  {
   "cell_type": "markdown",
   "id": "5884b274-2681-4845-86fe-062d2ac3281f",
   "metadata": {},
   "source": [
    "Get the `latitude` and `longitude` column values for `solidearth.gps_station` tables "
   ]
  },
  {
   "cell_type": "code",
   "execution_count": 8,
   "id": "c563f621-ef93-4529-859a-8077482968e2",
   "metadata": {},
   "outputs": [
    {
     "data": {
      "text/plain": [
       "[<matplotlib.lines.Line2D at 0x7f440a210bc0>]"
      ]
     },
     "execution_count": 8,
     "metadata": {},
     "output_type": "execute_result"
    },
    {
     "data": {
      "image/png": "[encoded data removed]",
      "text/plain": [
       "<Figure size 640x480 with 1 Axes>"
      ]
     },
     "metadata": {},
     "output_type": "display_data"
    }
   ],
   "source": [
    "lat = myConnection.getColumn('solidearth', 'gps_station', 'reflat')\n",
    "lon = myConnection.getColumn('solidearth', 'gps_station', 'reflon')\n",
    "plt.plot(lon, lat, 'r.')"
   ]
  },
  {
   "cell_type": "markdown",
   "id": "6616ee15-6e1d-4973-853d-d0c2ca711023",
   "metadata": {},
   "source": [
    "## Get Station Information Table"
   ]
  },
  {
   "cell_type": "markdown",
   "id": "800ad253-f534-46b8-9250-a2aa04d3da9e",
   "metadata": {},
   "source": [
    "Return the table with all of the top-level station data (e.g,, name, id, position, etc)."
   ]
  },
  {
   "cell_type": "code",
   "execution_count": 9,
   "id": "510bf2e4-d8a9-45e5-b22d-3e8757e14b3b",
   "metadata": {},
   "outputs": [
    {
     "data": {
      "text/html": [
       "<div>\n",
       "<style scoped>\n",
       "    .dataframe tbody tr th:only-of-type {\n",
       "        vertical-align: middle;\n",
       "    }\n",
       "\n",
       "    .dataframe tbody tr th {\n",
       "        vertical-align: top;\n",
       "    }\n",
       "\n",
       "    .dataframe thead th {\n",
       "        text-align: right;\n",
       "    }\n",
       "</style>\n",
       "<table border=\"1\" class=\"dataframe\">\n",
       "  <thead>\n",
       "    <tr style=\"text-align: right;\">\n",
       "      <th></th>\n",
       "      <th>station_id</th>\n",
       "      <th>site_id</th>\n",
       "      <th>station_name</th>\n",
       "      <th>reflat</th>\n",
       "      <th>reflon</th>\n",
       "      <th>east_0</th>\n",
       "      <th>north_0</th>\n",
       "      <th>up_0</th>\n",
       "      <th>refframe</th>\n",
       "      <th>refheight</th>\n",
       "      <th>station_geom</th>\n",
       "    </tr>\n",
       "  </thead>\n",
       "  <tbody>\n",
       "    <tr>\n",
       "      <th>0</th>\n",
       "      <td>4290</td>\n",
       "      <td>NaN</td>\n",
       "      <td>01NA</td>\n",
       "      <td>-12.478</td>\n",
       "      <td>130.982</td>\n",
       "      <td>-1951.0</td>\n",
       "      <td>-1379987.0</td>\n",
       "      <td>105.0</td>\n",
       "      <td>None</td>\n",
       "      <td>105.409</td>\n",
       "      <td>0101000020E61000008195438B6C5F6040DBF97E6ABCF4...</td>\n",
       "    </tr>\n",
       "    <tr>\n",
       "      <th>1</th>\n",
       "      <td>10605</td>\n",
       "      <td>NaN</td>\n",
       "      <td>02NA</td>\n",
       "      <td>-12.356</td>\n",
       "      <td>130.882</td>\n",
       "      <td>-1987.0</td>\n",
       "      <td>-1366458.0</td>\n",
       "      <td>117.0</td>\n",
       "      <td>None</td>\n",
       "      <td>117.652</td>\n",
       "      <td>0101000020E61000004E621058395C604083C0CAA145B6...</td>\n",
       "    </tr>\n",
       "    <tr>\n",
       "      <th>2</th>\n",
       "      <td>8173</td>\n",
       "      <td>NaN</td>\n",
       "      <td>0ABI</td>\n",
       "      <td>68.354</td>\n",
       "      <td>18.816</td>\n",
       "      <td>677.0</td>\n",
       "      <td>7585405.0</td>\n",
       "      <td>431.0</td>\n",
       "      <td>None</td>\n",
       "      <td>431.388</td>\n",
       "      <td>0101000020E610000037894160E5D032402DB29DEFA716...</td>\n",
       "    </tr>\n",
       "    <tr>\n",
       "      <th>3</th>\n",
       "      <td>9822</td>\n",
       "      <td>NaN</td>\n",
       "      <td>0ABN</td>\n",
       "      <td>65.034</td>\n",
       "      <td>21.333</td>\n",
       "      <td>1548.0</td>\n",
       "      <td>7215094.0</td>\n",
       "      <td>52.0</td>\n",
       "      <td>None</td>\n",
       "      <td>52.762</td>\n",
       "      <td>0101000020E61000006891ED7C3F5535401904560E2D42...</td>\n",
       "    </tr>\n",
       "    <tr>\n",
       "      <th>4</th>\n",
       "      <td>9848</td>\n",
       "      <td>NaN</td>\n",
       "      <td>0ABY</td>\n",
       "      <td>58.659</td>\n",
       "      <td>16.180</td>\n",
       "      <td>-1181.0</td>\n",
       "      <td>6504674.0</td>\n",
       "      <td>60.0</td>\n",
       "      <td>None</td>\n",
       "      <td>60.548</td>\n",
       "      <td>0101000020E6100000AE47E17A142E30403108AC1C5A54...</td>\n",
       "    </tr>\n",
       "    <tr>\n",
       "      <th>...</th>\n",
       "      <td>...</td>\n",
       "      <td>...</td>\n",
       "      <td>...</td>\n",
       "      <td>...</td>\n",
       "      <td>...</td>\n",
       "      <td>...</td>\n",
       "      <td>...</td>\n",
       "      <td>...</td>\n",
       "      <td>...</td>\n",
       "      <td>...</td>\n",
       "      <td>...</td>\n",
       "    </tr>\n",
       "    <tr>\n",
       "      <th>22038</th>\n",
       "      <td>4169</td>\n",
       "      <td>NaN</td>\n",
       "      <td>ZWO2</td>\n",
       "      <td>52.503</td>\n",
       "      <td>6.093</td>\n",
       "      <td>-450.0</td>\n",
       "      <td>5819290.0</td>\n",
       "      <td>65.0</td>\n",
       "      <td>None</td>\n",
       "      <td>65.610</td>\n",
       "      <td>0101000020E6100000AC1C5A643B5F1840AAF1D24D6240...</td>\n",
       "    </tr>\n",
       "    <tr>\n",
       "      <th>22039</th>\n",
       "      <td>22005</td>\n",
       "      <td>NaN</td>\n",
       "      <td>ZWOL</td>\n",
       "      <td>52.502</td>\n",
       "      <td>6.096</td>\n",
       "      <td>-301.0</td>\n",
       "      <td>5819243.0</td>\n",
       "      <td>86.0</td>\n",
       "      <td>None</td>\n",
       "      <td>86.657</td>\n",
       "      <td>0101000020E6100000FCA9F1D24D621840C74B37894140...</td>\n",
       "    </tr>\n",
       "    <tr>\n",
       "      <th>22040</th>\n",
       "      <td>8624</td>\n",
       "      <td>NaN</td>\n",
       "      <td>ZYRA</td>\n",
       "      <td>52.055</td>\n",
       "      <td>20.420</td>\n",
       "      <td>1391.0</td>\n",
       "      <td>5769437.0</td>\n",
       "      <td>157.0</td>\n",
       "      <td>None</td>\n",
       "      <td>157.400</td>\n",
       "      <td>0101000020E6100000EC51B81E856B3440D7A3703D0A07...</td>\n",
       "    </tr>\n",
       "    <tr>\n",
       "      <th>22041</th>\n",
       "      <td>21765</td>\n",
       "      <td>NaN</td>\n",
       "      <td>ZYWE</td>\n",
       "      <td>49.688</td>\n",
       "      <td>19.197</td>\n",
       "      <td>-190.0</td>\n",
       "      <td>5506161.0</td>\n",
       "      <td>405.0</td>\n",
       "      <td>None</td>\n",
       "      <td>405.901</td>\n",
       "      <td>0101000020E6100000DF4F8D976E323340F2D24D6210D8...</td>\n",
       "    </tr>\n",
       "    <tr>\n",
       "      <th>22042</th>\n",
       "      <td>1094</td>\n",
       "      <td>NaN</td>\n",
       "      <td>ZYWI</td>\n",
       "      <td>49.687</td>\n",
       "      <td>19.206</td>\n",
       "      <td>429.0</td>\n",
       "      <td>5505998.0</td>\n",
       "      <td>412.0</td>\n",
       "      <td>None</td>\n",
       "      <td>412.779</td>\n",
       "      <td>0101000020E6100000DBF97E6ABC3433400E2DB29DEFD7...</td>\n",
       "    </tr>\n",
       "  </tbody>\n",
       "</table>\n",
       "<p>22043 rows × 11 columns</p>\n",
       "</div>"
      ],
      "text/plain": [
       "       station_id  site_id station_name  reflat   reflon  east_0    north_0  \\\n",
       "0            4290      NaN         01NA -12.478  130.982 -1951.0 -1379987.0   \n",
       "1           10605      NaN         02NA -12.356  130.882 -1987.0 -1366458.0   \n",
       "2            8173      NaN         0ABI  68.354   18.816   677.0  7585405.0   \n",
       "3            9822      NaN         0ABN  65.034   21.333  1548.0  7215094.0   \n",
       "4            9848      NaN         0ABY  58.659   16.180 -1181.0  6504674.0   \n",
       "...           ...      ...          ...     ...      ...     ...        ...   \n",
       "22038        4169      NaN         ZWO2  52.503    6.093  -450.0  5819290.0   \n",
       "22039       22005      NaN         ZWOL  52.502    6.096  -301.0  5819243.0   \n",
       "22040        8624      NaN         ZYRA  52.055   20.420  1391.0  5769437.0   \n",
       "22041       21765      NaN         ZYWE  49.688   19.197  -190.0  5506161.0   \n",
       "22042        1094      NaN         ZYWI  49.687   19.206   429.0  5505998.0   \n",
       "\n",
       "        up_0 refframe  refheight  \\\n",
       "0      105.0     None    105.409   \n",
       "1      117.0     None    117.652   \n",
       "2      431.0     None    431.388   \n",
       "3       52.0     None     52.762   \n",
       "4       60.0     None     60.548   \n",
       "...      ...      ...        ...   \n",
       "22038   65.0     None     65.610   \n",
       "22039   86.0     None     86.657   \n",
       "22040  157.0     None    157.400   \n",
       "22041  405.0     None    405.901   \n",
       "22042  412.0     None    412.779   \n",
       "\n",
       "                                            station_geom  \n",
       "0      0101000020E61000008195438B6C5F6040DBF97E6ABCF4...  \n",
       "1      0101000020E61000004E621058395C604083C0CAA145B6...  \n",
       "2      0101000020E610000037894160E5D032402DB29DEFA716...  \n",
       "3      0101000020E61000006891ED7C3F5535401904560E2D42...  \n",
       "4      0101000020E6100000AE47E17A142E30403108AC1C5A54...  \n",
       "...                                                  ...  \n",
       "22038  0101000020E6100000AC1C5A643B5F1840AAF1D24D6240...  \n",
       "22039  0101000020E6100000FCA9F1D24D621840C74B37894140...  \n",
       "22040  0101000020E6100000EC51B81E856B3440D7A3703D0A07...  \n",
       "22041  0101000020E6100000DF4F8D976E323340F2D24D6210D8...  \n",
       "22042  0101000020E6100000DBF97E6ABC3433400E2DB29DEFD7...  \n",
       "\n",
       "[22043 rows x 11 columns]"
      ]
     },
     "execution_count": 9,
     "metadata": {},
     "output_type": "execute_result"
    }
   ],
   "source": [
    "table = myConnection.getTableListing(schemaName='solidearth', tableName='gps_station')\n",
    "table"
   ]
  },
  {
   "cell_type": "markdown",
   "id": "b09c6713-a2d5-4fa0-84e6-5a136371b4fa",
   "metadata": {},
   "source": [
    "## Station Name to ID"
   ]
  },
  {
   "cell_type": "markdown",
   "id": "2a4df152-e5ed-4030-b95c-d604e8cb8668",
   "metadata": {},
   "source": [
    "Determine the station ID (e.g., 16156) from the station name (e.g., LIZY). This translation is needed to map the station name to station id needed to index the table above."
   ]
  },
  {
   "cell_type": "code",
   "execution_count": 10,
   "id": "de594b00-91c3-406f-ab6b-b00369c16331",
   "metadata": {},
   "outputs": [
    {
     "data": {
      "text/plain": [
       "16516"
      ]
     },
     "execution_count": 10,
     "metadata": {},
     "output_type": "execute_result"
    }
   ],
   "source": [
    "myConnection.stationNameToID('LIZY', schemaName='solidearth')"
   ]
  },
  {
   "cell_type": "markdown",
   "id": "6a7782d3-260b-4535-90fe-3b7baf01e56a",
   "metadata": {},
   "source": [
    "## Get GPS Data for Date Range"
   ]
  },
  {
   "cell_type": "markdown",
   "id": "ac04c895-57dc-4af4-b506-7d54111e399f",
   "metadata": {},
   "source": [
    "Return all the data for a designated station for the decimal date range (d1, d2). This next cell could take a minute or more to query the DB. "
   ]
  },
  {
   "cell_type": "code",
   "execution_count": null,
   "id": "d057ba8f-6517-47ff-8352-1c55902f361b",
   "metadata": {},
   "outputs": [],
   "source": [
    "d1 = 2019\n",
    "d2 = 2024\n",
    "myData = myConnection.getStationDateRangeData('LIZY', d1, d2, 'solidearth', 'gps_measurement')\n",
    "myData"
   ]
  },
  {
   "cell_type": "code",
   "execution_count": null,
   "id": "eca9cc07-2a38-4473-91d9-cb932b30037d",
   "metadata": {},
   "outputs": [],
   "source": [
    "plt.plot(myData['east'], myData['north'], 'r.')"
   ]
  },
  {
   "cell_type": "markdown",
   "id": "b57e7b2b-dd6b-47ec-a277-bf1ab078f4d2",
   "metadata": {},
   "source": [
    "## Rollback a Query Error"
   ]
  },
  {
   "cell_type": "markdown",
   "id": "f3c4d817-c3c5-4183-a9db-774aa6b5904d",
   "metadata": {},
   "source": [
    "This will reset the connection after a query fails with an error. Most of the routines should trap errors and automatically rollback."
   ]
  },
  {
   "cell_type": "code",
   "execution_count": null,
   "id": "652c20b7-9dcb-4fc3-a338-de3c26c3d1cb",
   "metadata": {},
   "outputs": [],
   "source": [
    "myConnection.connection.rollback()"
   ]
  },
  {
   "cell_type": "markdown",
   "id": "91507858-0874-48ef-a081-0cef7f18155a",
   "metadata": {},
   "source": [
    "## Close the connection"
   ]
  },
  {
   "cell_type": "markdown",
   "id": "ec220417-262c-4244-92b1-536a4502107f",
   "metadata": {},
   "source": [
    "Close the connection when finished."
   ]
  },
  {
   "cell_type": "code",
   "execution_count": null,
   "id": "af931088-36c0-4762-885f-bd99dee455c5",
   "metadata": {},
   "outputs": [],
   "source": [
    "myConnection.close()"
   ]
  },
  {
   "cell_type": "code",
   "execution_count": null,
   "id": "733c6310-0273-4c7a-be28-24199de62630",
   "metadata": {},
   "outputs": [],
   "source": []
  }
 ],
 "metadata": {
  "kernelspec": {
   "display_name": "base",
   "language": "python",
   "name": "base"
  },
  "language_info": {
   "codemirror_mode": {
    "name": "ipython",
    "version": 3
   },
   "file_extension": ".py",
   "mimetype": "text/x-python",
   "name": "python",
   "nbconvert_exporter": "python",
   "pygments_lexer": "ipython3",
   "version": "3.12.2"
  }
 },
 "nbformat": 4,
 "nbformat_minor": 5
}
