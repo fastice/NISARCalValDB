{
 "cells": [
  {
   "cell_type": "markdown",
   "id": "a4009c32-3df3-479a-acd3-292396ced6a8",
   "metadata": {},
   "source": [
    "# Test Notebook for nisarcryodb\n",
    "---"
   ]
  },
  {
   "cell_type": "markdown",
   "id": "4966aafa-6b7d-44ce-87b0-4d329323c571",
   "metadata": {},
   "source": [
    "This note book is used to develop, test, and document the  `nisarcryodb` class, which is used to query the NISAR cal/val db for GPS data from cryosphere validation sites.\n"
   ]
  },
  {
   "cell_type": "code",
   "execution_count": 1,
   "id": "973ece80-b9a1-441d-af15-f06b72f23778",
   "metadata": {},
   "outputs": [],
   "source": [
    "%load_ext autoreload\n",
    "%autoreload 2\n",
    "import nisarcryodb\n",
    "from psycopg2 import sql\n",
    "import matplotlib.pyplot as plt\n",
    "import numpy as np"
   ]
  },
  {
   "cell_type": "markdown",
   "id": "1dfa7449-170a-4212-9db9-6230e147f62b",
   "metadata": {},
   "source": [
    "## Initialize nisarcryodb Object"
   ]
  },
  {
   "cell_type": "markdown",
   "id": "570ba33d-c077-4195-a98f-bdbe5966f151",
   "metadata": {},
   "source": [
    "This step initializes the connection to the nisar cal/val data base. It requires a cal/val database user name and passwd."
   ]
  },
  {
   "cell_type": "code",
   "execution_count": 8,
   "id": "430c13a6-7734-49d3-8e17-9d7182b64f06",
   "metadata": {},
   "outputs": [
    {
     "name": "stdin",
     "output_type": "stream",
     "text": [
      "User name:  irj\n",
      "Password:  ········\n"
     ]
    }
   ],
   "source": [
    "myConnection = nisarcryodb.nisarcryodb()"
   ]
  },
  {
   "cell_type": "markdown",
   "id": "97f7a422-97c6-452b-9080-a0036e7c3a55",
   "metadata": {},
   "source": [
    "## List Schema"
   ]
  },
  {
   "cell_type": "markdown",
   "id": "a5a45e0e-4865-4076-a1c6-4fa7a8a1135c",
   "metadata": {},
   "source": [
    "List all of the schema in the database. "
   ]
  },
  {
   "cell_type": "code",
   "execution_count": 9,
   "id": "a6ade660-b5aa-461d-bc61-fcce6b07099e",
   "metadata": {},
   "outputs": [
    {
     "name": "stdout",
     "output_type": "stream",
     "text": [
      "crop_area\n",
      "pg_catalog\n",
      "information_schema\n",
      "soil_moisture\n",
      "inundation\n",
      "disturbance\n",
      "seaice\n",
      "biomass_save\n",
      "biomass\n",
      "pg_temp_8\n",
      "pg_toast_temp_8\n",
      "nisar\n",
      "permafrost\n",
      "sites\n",
      "tiger\n",
      "tiger_data\n",
      "topology\n",
      "public\n",
      "solidearth\n",
      "landice\n",
      "pg_temp_16\n",
      "pg_toast_temp_16\n",
      "corner_reflectors\n"
     ]
    }
   ],
   "source": [
    "schemas = myConnection.listSchema(quiet=False)"
   ]
  },
  {
   "cell_type": "markdown",
   "id": "b4cb818c-c90d-490b-8c69-75c63d31c36e",
   "metadata": {},
   "source": [
    "## List Table Names for Schema"
   ]
  },
  {
   "cell_type": "markdown",
   "id": "1b592474-296b-4762-afcc-1c9f583bf899",
   "metadata": {},
   "source": [
    "List the names of the table under the landice schema."
   ]
  },
  {
   "cell_type": "code",
   "execution_count": 10,
   "id": "2b7ac1ee-16a3-47c7-af2c-b7903e096eac",
   "metadata": {
    "scrolled": true
   },
   "outputs": [
    {
     "name": "stdout",
     "output_type": "stream",
     "text": [
      "gps_data_version\n",
      "requirement\n",
      "site\n",
      "l3_product\n",
      "gps_station\n",
      "validation_run_gps_data_jct\n",
      "validation_run\n",
      "l3_product_calval_site_jct\n",
      "l3_product_requirement_jct\n",
      "velocity_data\n",
      "gps_data\n"
     ]
    }
   ],
   "source": [
    "myConnection.listSchemaTableNames('landice');"
   ]
  },
  {
   "cell_type": "markdown",
   "id": "43d86472-d507-47b8-8c43-eeb14493c532",
   "metadata": {},
   "source": [
    "## List Column Names for Table"
   ]
  },
  {
   "cell_type": "markdown",
   "id": "50af3c77-4328-4227-9050-805c5e932d93",
   "metadata": {},
   "source": [
    "List the column names for a table (e.g., gps_station) and schema (e.g., landice)."
   ]
  },
  {
   "cell_type": "code",
   "execution_count": 11,
   "id": "48826cf5-04a0-481b-ac93-6e9e0ff2a9a0",
   "metadata": {},
   "outputs": [
    {
     "name": "stdout",
     "output_type": "stream",
     "text": [
      "station_id, station_name, reflat, reflon, refheight, poc_name, poc_email, station_geom, site_id\n"
     ]
    }
   ],
   "source": [
    "stationColumns = myConnection.listTableColumns('landice', 'gps_station', quiet=False)"
   ]
  },
  {
   "cell_type": "markdown",
   "id": "0aa6ccf8-3d1e-40ad-9c1d-bfc660fc14c5",
   "metadata": {},
   "source": [
    "This time get the columns for the gps_data table. Use `returnType=True` to get the data type for each column."
   ]
  },
  {
   "cell_type": "code",
   "execution_count": 12,
   "id": "4a9c03bb-92e2-4b77-a5bb-c812d5efb201",
   "metadata": {},
   "outputs": [
    {
     "name": "stdout",
     "output_type": "stream",
     "text": [
      "gps_data_id, station_id, date_uploaded, decimal_year, nominal_doy, lat, lon, ht_abv_eps, std, data_geom, version_id\n",
      "integer, integer, date, double precision, integer, double precision, double precision, double precision, double precision, USER-DEFINED, integer\n"
     ]
    }
   ],
   "source": [
    "gpsColumns, gpsDataTypes = myConnection.listTableColumns('landice', 'gps_data', returnType=True)"
   ]
  },
  {
   "cell_type": "markdown",
   "id": "fc5f46a1-e626-48d9-bdb4-a2d378244f23",
   "metadata": {},
   "source": [
    "## List Column Values"
   ]
  },
  {
   "cell_type": "markdown",
   "id": "5efd32bf-c697-4e60-9479-7b86ea815593",
   "metadata": {},
   "source": [
    "Get the `station_name` column values for `landice.gps_station` tables "
   ]
  },
  {
   "cell_type": "code",
   "execution_count": 13,
   "id": "5aa122d4-825f-44f8-9482-ee3f53ab0364",
   "metadata": {},
   "outputs": [
    {
     "data": {
      "text/plain": [
       "['LORG',\n",
       " 'test',\n",
       " 'NIU1',\n",
       " 'NIU2',\n",
       " 'NIU3',\n",
       " 'NIU4',\n",
       " 'NIU5',\n",
       " 'NIT0',\n",
       " 'NIT1',\n",
       " 'NIT2',\n",
       " 'NIT3',\n",
       " 'NIT4',\n",
       " 'NIT5',\n",
       " 'NIL1',\n",
       " 'NIL2',\n",
       " 'NIL3',\n",
       " 'NIL4',\n",
       " 'NIL5']"
      ]
     },
     "execution_count": 13,
     "metadata": {},
     "output_type": "execute_result"
    }
   ],
   "source": [
    "myConnection.getColumn('landice', 'gps_station', 'station_name')"
   ]
  },
  {
   "cell_type": "markdown",
   "id": "3127c357-68ae-4e44-9593-610896d18231",
   "metadata": {},
   "source": [
    "Get the `latitude` column values for `landice.gps_data` tables "
   ]
  },
  {
   "cell_type": "code",
   "execution_count": 14,
   "id": "700542bc-073e-4c7c-a323-a50aa76615ee",
   "metadata": {},
   "outputs": [
    {
     "data": {
      "text/plain": [
       "[67.11978615127572,\n",
       " 67.11978618058903,\n",
       " 67.119786154185,\n",
       " 67.11978616763491,\n",
       " 67.11978613551105,\n",
       " 67.11978610191011,\n",
       " 67.11978602025852,\n",
       " 67.1197859849196,\n",
       " 67.1197858960912,\n",
       " 67.11978588373174]"
      ]
     },
     "execution_count": 14,
     "metadata": {},
     "output_type": "execute_result"
    }
   ],
   "source": [
    "lat = myConnection.getColumn('landice', 'gps_data', 'lat');\n",
    "lat[0:10]"
   ]
  },
  {
   "cell_type": "markdown",
   "id": "b09c6713-a2d5-4fa0-84e6-5a136371b4fa",
   "metadata": {},
   "source": [
    "## Station Name to ID"
   ]
  },
  {
   "cell_type": "markdown",
   "id": "2a4df152-e5ed-4030-b95c-d604e8cb8668",
   "metadata": {},
   "source": [
    "Determine the station ID (e.g., 22) from the station name (e.g., LORG)."
   ]
  },
  {
   "cell_type": "code",
   "execution_count": 15,
   "id": "de594b00-91c3-406f-ab6b-b00369c16331",
   "metadata": {},
   "outputs": [
    {
     "data": {
      "text/plain": [
       "22"
      ]
     },
     "execution_count": 15,
     "metadata": {},
     "output_type": "execute_result"
    }
   ],
   "source": [
    "myConnection.stationNameToID('LORG')"
   ]
  },
  {
   "cell_type": "markdown",
   "id": "6a7782d3-260b-4535-90fe-3b7baf01e56a",
   "metadata": {},
   "source": [
    "## Get GPS Data for Date Range"
   ]
  },
  {
   "cell_type": "markdown",
   "id": "ac04c895-57dc-4af4-b506-7d54111e399f",
   "metadata": {},
   "source": [
    "Return all the data for a designated station for the decimal date range (d1, d2). "
   ]
  },
  {
   "cell_type": "code",
   "execution_count": 16,
   "id": "d057ba8f-6517-47ff-8352-1c55902f361b",
   "metadata": {},
   "outputs": [],
   "source": [
    "d1 = 2019.8165544457129-1\n",
    "d2 = 2019.819178050482+1\n",
    "myData = myConnection.getStationDateRangeData('LORG', d1, d2, schemaName='landice', tableName='gps_data')"
   ]
  },
  {
   "cell_type": "code",
   "execution_count": 17,
   "id": "347b209c-1b12-46fa-a154-6542576b56c8",
   "metadata": {},
   "outputs": [
    {
     "data": {
      "text/html": [
       "<div>\n",
       "<style scoped>\n",
       "    .dataframe tbody tr th:only-of-type {\n",
       "        vertical-align: middle;\n",
       "    }\n",
       "\n",
       "    .dataframe tbody tr th {\n",
       "        vertical-align: top;\n",
       "    }\n",
       "\n",
       "    .dataframe thead th {\n",
       "        text-align: right;\n",
       "    }\n",
       "</style>\n",
       "<table border=\"1\" class=\"dataframe\">\n",
       "  <thead>\n",
       "    <tr style=\"text-align: right;\">\n",
       "      <th></th>\n",
       "      <th>gps_data_id</th>\n",
       "      <th>station_id</th>\n",
       "      <th>date_uploaded</th>\n",
       "      <th>decimal_year</th>\n",
       "      <th>nominal_doy</th>\n",
       "      <th>lat</th>\n",
       "      <th>lon</th>\n",
       "      <th>ht_abv_eps</th>\n",
       "      <th>std</th>\n",
       "      <th>data_geom</th>\n",
       "      <th>version_id</th>\n",
       "    </tr>\n",
       "  </thead>\n",
       "  <tbody>\n",
       "    <tr>\n",
       "      <th>0</th>\n",
       "      <td>1</td>\n",
       "      <td>22</td>\n",
       "      <td>2024-08-14</td>\n",
       "      <td>2019.816095</td>\n",
       "      <td>299</td>\n",
       "      <td>-78.178644</td>\n",
       "      <td>170.035773</td>\n",
       "      <td>-8.166388</td>\n",
       "      <td>0.052630</td>\n",
       "      <td>0101000020E61000002FAA480E254165406A8E1EE66E8B...</td>\n",
       "      <td>1</td>\n",
       "    </tr>\n",
       "    <tr>\n",
       "      <th>1</th>\n",
       "      <td>2</td>\n",
       "      <td>22</td>\n",
       "      <td>2024-08-14</td>\n",
       "      <td>2019.816096</td>\n",
       "      <td>299</td>\n",
       "      <td>-78.178644</td>\n",
       "      <td>170.035774</td>\n",
       "      <td>-8.164225</td>\n",
       "      <td>0.052005</td>\n",
       "      <td>0101000020E6100000F6F51A0F25416540DCEE4AE66E8B...</td>\n",
       "      <td>1</td>\n",
       "    </tr>\n",
       "    <tr>\n",
       "      <th>2</th>\n",
       "      <td>3</td>\n",
       "      <td>22</td>\n",
       "      <td>2024-08-14</td>\n",
       "      <td>2019.816097</td>\n",
       "      <td>299</td>\n",
       "      <td>-78.178644</td>\n",
       "      <td>170.035774</td>\n",
       "      <td>-8.165435</td>\n",
       "      <td>0.051403</td>\n",
       "      <td>0101000020E61000004BD2AF0F25416540A41B26E66E8B...</td>\n",
       "      <td>1</td>\n",
       "    </tr>\n",
       "    <tr>\n",
       "      <th>3</th>\n",
       "      <td>4</td>\n",
       "      <td>22</td>\n",
       "      <td>2024-08-14</td>\n",
       "      <td>2019.816098</td>\n",
       "      <td>299</td>\n",
       "      <td>-78.178644</td>\n",
       "      <td>170.035774</td>\n",
       "      <td>-8.182960</td>\n",
       "      <td>0.050820</td>\n",
       "      <td>0101000020E610000028D5851025416540DFD121E66E8B...</td>\n",
       "      <td>1</td>\n",
       "    </tr>\n",
       "    <tr>\n",
       "      <th>4</th>\n",
       "      <td>5</td>\n",
       "      <td>22</td>\n",
       "      <td>2024-08-14</td>\n",
       "      <td>2019.816099</td>\n",
       "      <td>299</td>\n",
       "      <td>-78.178644</td>\n",
       "      <td>170.035775</td>\n",
       "      <td>-8.187331</td>\n",
       "      <td>0.050257</td>\n",
       "      <td>0101000020E61000003146AB10254165402F48FAE56E8B...</td>\n",
       "      <td>1</td>\n",
       "    </tr>\n",
       "    <tr>\n",
       "      <th>...</th>\n",
       "      <td>...</td>\n",
       "      <td>...</td>\n",
       "      <td>...</td>\n",
       "      <td>...</td>\n",
       "      <td>...</td>\n",
       "      <td>...</td>\n",
       "      <td>...</td>\n",
       "      <td>...</td>\n",
       "      <td>...</td>\n",
       "      <td>...</td>\n",
       "      <td>...</td>\n",
       "    </tr>\n",
       "    <tr>\n",
       "      <th>3595</th>\n",
       "      <td>3596</td>\n",
       "      <td>22</td>\n",
       "      <td>2024-08-14</td>\n",
       "      <td>2019.819515</td>\n",
       "      <td>299</td>\n",
       "      <td>-78.178624</td>\n",
       "      <td>170.035779</td>\n",
       "      <td>-8.299269</td>\n",
       "      <td>0.032706</td>\n",
       "      <td>0101000020E610000085937519254165408138EE946E8B...</td>\n",
       "      <td>1</td>\n",
       "    </tr>\n",
       "    <tr>\n",
       "      <th>3596</th>\n",
       "      <td>3597</td>\n",
       "      <td>22</td>\n",
       "      <td>2024-08-14</td>\n",
       "      <td>2019.819516</td>\n",
       "      <td>299</td>\n",
       "      <td>-78.178624</td>\n",
       "      <td>170.035779</td>\n",
       "      <td>-8.306964</td>\n",
       "      <td>0.032744</td>\n",
       "      <td>0101000020E61000008C695E192541654014ABF6946E8B...</td>\n",
       "      <td>1</td>\n",
       "    </tr>\n",
       "    <tr>\n",
       "      <th>3597</th>\n",
       "      <td>3598</td>\n",
       "      <td>22</td>\n",
       "      <td>2024-08-14</td>\n",
       "      <td>2019.819517</td>\n",
       "      <td>299</td>\n",
       "      <td>-78.178624</td>\n",
       "      <td>170.035779</td>\n",
       "      <td>-8.318135</td>\n",
       "      <td>0.032788</td>\n",
       "      <td>0101000020E6100000F0C5161925416540BDC5FD946E8B...</td>\n",
       "      <td>1</td>\n",
       "    </tr>\n",
       "    <tr>\n",
       "      <th>3598</th>\n",
       "      <td>3599</td>\n",
       "      <td>22</td>\n",
       "      <td>2024-08-14</td>\n",
       "      <td>2019.819518</td>\n",
       "      <td>299</td>\n",
       "      <td>-78.178624</td>\n",
       "      <td>170.035778</td>\n",
       "      <td>-8.340532</td>\n",
       "      <td>0.032837</td>\n",
       "      <td>0101000020E61000001A04A21825416540094713956E8B...</td>\n",
       "      <td>1</td>\n",
       "    </tr>\n",
       "    <tr>\n",
       "      <th>3599</th>\n",
       "      <td>3600</td>\n",
       "      <td>22</td>\n",
       "      <td>2024-08-14</td>\n",
       "      <td>2019.819519</td>\n",
       "      <td>299</td>\n",
       "      <td>-78.178624</td>\n",
       "      <td>170.035778</td>\n",
       "      <td>-8.343673</td>\n",
       "      <td>0.032891</td>\n",
       "      <td>0101000020E61000004D476C18254165402131EF946E8B...</td>\n",
       "      <td>1</td>\n",
       "    </tr>\n",
       "  </tbody>\n",
       "</table>\n",
       "<p>3600 rows × 11 columns</p>\n",
       "</div>"
      ],
      "text/plain": [
       "      gps_data_id  station_id date_uploaded  decimal_year  nominal_doy  \\\n",
       "0               1          22    2024-08-14   2019.816095          299   \n",
       "1               2          22    2024-08-14   2019.816096          299   \n",
       "2               3          22    2024-08-14   2019.816097          299   \n",
       "3               4          22    2024-08-14   2019.816098          299   \n",
       "4               5          22    2024-08-14   2019.816099          299   \n",
       "...           ...         ...           ...           ...          ...   \n",
       "3595         3596          22    2024-08-14   2019.819515          299   \n",
       "3596         3597          22    2024-08-14   2019.819516          299   \n",
       "3597         3598          22    2024-08-14   2019.819517          299   \n",
       "3598         3599          22    2024-08-14   2019.819518          299   \n",
       "3599         3600          22    2024-08-14   2019.819519          299   \n",
       "\n",
       "            lat         lon  ht_abv_eps       std  \\\n",
       "0    -78.178644  170.035773   -8.166388  0.052630   \n",
       "1    -78.178644  170.035774   -8.164225  0.052005   \n",
       "2    -78.178644  170.035774   -8.165435  0.051403   \n",
       "3    -78.178644  170.035774   -8.182960  0.050820   \n",
       "4    -78.178644  170.035775   -8.187331  0.050257   \n",
       "...         ...         ...         ...       ...   \n",
       "3595 -78.178624  170.035779   -8.299269  0.032706   \n",
       "3596 -78.178624  170.035779   -8.306964  0.032744   \n",
       "3597 -78.178624  170.035779   -8.318135  0.032788   \n",
       "3598 -78.178624  170.035778   -8.340532  0.032837   \n",
       "3599 -78.178624  170.035778   -8.343673  0.032891   \n",
       "\n",
       "                                              data_geom  version_id  \n",
       "0     0101000020E61000002FAA480E254165406A8E1EE66E8B...           1  \n",
       "1     0101000020E6100000F6F51A0F25416540DCEE4AE66E8B...           1  \n",
       "2     0101000020E61000004BD2AF0F25416540A41B26E66E8B...           1  \n",
       "3     0101000020E610000028D5851025416540DFD121E66E8B...           1  \n",
       "4     0101000020E61000003146AB10254165402F48FAE56E8B...           1  \n",
       "...                                                 ...         ...  \n",
       "3595  0101000020E610000085937519254165408138EE946E8B...           1  \n",
       "3596  0101000020E61000008C695E192541654014ABF6946E8B...           1  \n",
       "3597  0101000020E6100000F0C5161925416540BDC5FD946E8B...           1  \n",
       "3598  0101000020E61000001A04A21825416540094713956E8B...           1  \n",
       "3599  0101000020E61000004D476C18254165402131EF946E8B...           1  \n",
       "\n",
       "[3600 rows x 11 columns]"
      ]
     },
     "execution_count": 17,
     "metadata": {},
     "output_type": "execute_result"
    }
   ],
   "source": [
    "myData"
   ]
  },
  {
   "cell_type": "code",
   "execution_count": 18,
   "id": "0653a1b7-92f7-4c40-9f3e-4adbc63f6aa3",
   "metadata": {},
   "outputs": [
    {
     "data": {
      "text/plain": [
       "Text(0, 0.5, 'latitude')"
      ]
     },
     "execution_count": 18,
     "metadata": {},
     "output_type": "execute_result"
    },
    {
     "data": {
      "image/png": "[encoded data removed]",
      "text/plain": [
       "<Figure size 640x480 with 1 Axes>"
      ]
     },
     "metadata": {},
     "output_type": "display_data"
    }
   ],
   "source": [
    "plt.plot(myData['lon'], myData['lat'], 'r.')\n",
    "plt.xlabel('longitude')\n",
    "plt.ylabel('latitude')"
   ]
  },
  {
   "cell_type": "markdown",
   "id": "e5741c51-946a-47fe-82a4-240a198a0f86",
   "metadata": {},
   "source": [
    "## Get Station Information"
   ]
  },
  {
   "cell_type": "markdown",
   "id": "51b6aad0-0dc4-4d9d-bfe9-3ca7d026596d",
   "metadata": {},
   "source": [
    "Return the table with all of the top-level station data (e.g,, name, id, position, etc)."
   ]
  },
  {
   "cell_type": "code",
   "execution_count": 19,
   "id": "c4ff4375-c97a-4578-ac90-47bdde2c586a",
   "metadata": {},
   "outputs": [
    {
     "data": {
      "text/html": [
       "<div>\n",
       "<style scoped>\n",
       "    .dataframe tbody tr th:only-of-type {\n",
       "        vertical-align: middle;\n",
       "    }\n",
       "\n",
       "    .dataframe tbody tr th {\n",
       "        vertical-align: top;\n",
       "    }\n",
       "\n",
       "    .dataframe thead th {\n",
       "        text-align: right;\n",
       "    }\n",
       "</style>\n",
       "<table border=\"1\" class=\"dataframe\">\n",
       "  <thead>\n",
       "    <tr style=\"text-align: right;\">\n",
       "      <th></th>\n",
       "      <th>station_id</th>\n",
       "      <th>station_name</th>\n",
       "      <th>reflat</th>\n",
       "      <th>reflon</th>\n",
       "      <th>refheight</th>\n",
       "      <th>poc_name</th>\n",
       "      <th>poc_email</th>\n",
       "      <th>station_geom</th>\n",
       "      <th>site_id</th>\n",
       "    </tr>\n",
       "  </thead>\n",
       "  <tbody>\n",
       "    <tr>\n",
       "      <th>0</th>\n",
       "      <td>22</td>\n",
       "      <td>LORG</td>\n",
       "      <td>34.463000</td>\n",
       "      <td>-118.550000</td>\n",
       "      <td>NaN</td>\n",
       "      <td>None</td>\n",
       "      <td>None</td>\n",
       "      <td>0101000020E61000003333333333A35DC025068195433B...</td>\n",
       "      <td>3</td>\n",
       "    </tr>\n",
       "    <tr>\n",
       "      <th>1</th>\n",
       "      <td>23</td>\n",
       "      <td>test</td>\n",
       "      <td>34.045000</td>\n",
       "      <td>-119.541000</td>\n",
       "      <td>NaN</td>\n",
       "      <td>None</td>\n",
       "      <td>None</td>\n",
       "      <td>0101000020E6100000B4C876BE9FE25DC0F6285C8FC205...</td>\n",
       "      <td>3</td>\n",
       "    </tr>\n",
       "    <tr>\n",
       "      <th>2</th>\n",
       "      <td>17</td>\n",
       "      <td>NIU1</td>\n",
       "      <td>67.119742</td>\n",
       "      <td>-47.139061</td>\n",
       "      <td>NaN</td>\n",
       "      <td>None</td>\n",
       "      <td>None</td>\n",
       "      <td>0101000020E6100000149337C0CC9147C04A7D59DAA9C7...</td>\n",
       "      <td>2</td>\n",
       "    </tr>\n",
       "    <tr>\n",
       "      <th>3</th>\n",
       "      <td>18</td>\n",
       "      <td>NIU2</td>\n",
       "      <td>67.131502</td>\n",
       "      <td>-46.222216</td>\n",
       "      <td>NaN</td>\n",
       "      <td>None</td>\n",
       "      <td>None</td>\n",
       "      <td>0101000020E6100000F052EA92711C47C0F3565D876AC8...</td>\n",
       "      <td>2</td>\n",
       "    </tr>\n",
       "    <tr>\n",
       "      <th>4</th>\n",
       "      <td>19</td>\n",
       "      <td>NIU3</td>\n",
       "      <td>67.146943</td>\n",
       "      <td>-45.367189</td>\n",
       "      <td>NaN</td>\n",
       "      <td>None</td>\n",
       "      <td>None</td>\n",
       "      <td>0101000020E6100000B939950C00AF46C012D89C8367C9...</td>\n",
       "      <td>2</td>\n",
       "    </tr>\n",
       "    <tr>\n",
       "      <th>5</th>\n",
       "      <td>20</td>\n",
       "      <td>NIU4</td>\n",
       "      <td>67.112244</td>\n",
       "      <td>-44.325733</td>\n",
       "      <td>NaN</td>\n",
       "      <td>None</td>\n",
       "      <td>None</td>\n",
       "      <td>0101000020E61000002E1D739EB12946C0064B75012FC7...</td>\n",
       "      <td>2</td>\n",
       "    </tr>\n",
       "    <tr>\n",
       "      <th>6</th>\n",
       "      <td>21</td>\n",
       "      <td>NIU5</td>\n",
       "      <td>67.120695</td>\n",
       "      <td>-43.182892</td>\n",
       "      <td>NaN</td>\n",
       "      <td>None</td>\n",
       "      <td>None</td>\n",
       "      <td>0101000020E61000009B594B01699745C09B728577B9C7...</td>\n",
       "      <td>2</td>\n",
       "    </tr>\n",
       "    <tr>\n",
       "      <th>7</th>\n",
       "      <td>1</td>\n",
       "      <td>NIT0</td>\n",
       "      <td>-80.330000</td>\n",
       "      <td>154.340000</td>\n",
       "      <td>1406.0</td>\n",
       "      <td>None</td>\n",
       "      <td>None</td>\n",
       "      <td>0101000020E61000007B14AE47E14A634085EB51B81E15...</td>\n",
       "      <td>1</td>\n",
       "    </tr>\n",
       "    <tr>\n",
       "      <th>8</th>\n",
       "      <td>2</td>\n",
       "      <td>NIT1</td>\n",
       "      <td>-79.800000</td>\n",
       "      <td>161.330000</td>\n",
       "      <td>34.0</td>\n",
       "      <td>None</td>\n",
       "      <td>None</td>\n",
       "      <td>0101000020E6100000C3F5285C8F2A64403333333333F3...</td>\n",
       "      <td>1</td>\n",
       "    </tr>\n",
       "    <tr>\n",
       "      <th>9</th>\n",
       "      <td>3</td>\n",
       "      <td>NIT2</td>\n",
       "      <td>-79.670000</td>\n",
       "      <td>164.800000</td>\n",
       "      <td>49.0</td>\n",
       "      <td>None</td>\n",
       "      <td>None</td>\n",
       "      <td>0101000020E61000009A999999999964407B14AE47E1EA...</td>\n",
       "      <td>1</td>\n",
       "    </tr>\n",
       "    <tr>\n",
       "      <th>10</th>\n",
       "      <td>4</td>\n",
       "      <td>NIT3</td>\n",
       "      <td>-78.820000</td>\n",
       "      <td>168.940000</td>\n",
       "      <td>35.0</td>\n",
       "      <td>None</td>\n",
       "      <td>None</td>\n",
       "      <td>0101000020E6100000AE47E17A141E654014AE47E17AB4...</td>\n",
       "      <td>1</td>\n",
       "    </tr>\n",
       "    <tr>\n",
       "      <th>11</th>\n",
       "      <td>5</td>\n",
       "      <td>NIT4</td>\n",
       "      <td>-77.890000</td>\n",
       "      <td>169.660000</td>\n",
       "      <td>16.0</td>\n",
       "      <td>None</td>\n",
       "      <td>None</td>\n",
       "      <td>0101000020E610000085EB51B81E356540295C8FC2F578...</td>\n",
       "      <td>1</td>\n",
       "    </tr>\n",
       "    <tr>\n",
       "      <th>12</th>\n",
       "      <td>6</td>\n",
       "      <td>NIT5</td>\n",
       "      <td>-78.510000</td>\n",
       "      <td>161.720000</td>\n",
       "      <td>193.0</td>\n",
       "      <td>None</td>\n",
       "      <td>None</td>\n",
       "      <td>0101000020E6100000D7A3703D0A376440713D0AD7A3A0...</td>\n",
       "      <td>1</td>\n",
       "    </tr>\n",
       "    <tr>\n",
       "      <th>13</th>\n",
       "      <td>7</td>\n",
       "      <td>NIL1</td>\n",
       "      <td>68.990000</td>\n",
       "      <td>-49.670000</td>\n",
       "      <td>697.0</td>\n",
       "      <td>None</td>\n",
       "      <td>None</td>\n",
       "      <td>0101000020E6100000F6285C8FC2D548C08FC2F5285C3F...</td>\n",
       "      <td>2</td>\n",
       "    </tr>\n",
       "    <tr>\n",
       "      <th>14</th>\n",
       "      <td>8</td>\n",
       "      <td>NIL2</td>\n",
       "      <td>68.900000</td>\n",
       "      <td>-49.370000</td>\n",
       "      <td>980.0</td>\n",
       "      <td>None</td>\n",
       "      <td>None</td>\n",
       "      <td>0101000020E61000008FC2F5285CAF48C09A9999999939...</td>\n",
       "      <td>2</td>\n",
       "    </tr>\n",
       "    <tr>\n",
       "      <th>15</th>\n",
       "      <td>9</td>\n",
       "      <td>NIL3</td>\n",
       "      <td>68.830000</td>\n",
       "      <td>-48.960000</td>\n",
       "      <td>1196.0</td>\n",
       "      <td>None</td>\n",
       "      <td>None</td>\n",
       "      <td>0101000020E61000007B14AE47E17A48C085EB51B81E35...</td>\n",
       "      <td>2</td>\n",
       "    </tr>\n",
       "    <tr>\n",
       "      <th>16</th>\n",
       "      <td>10</td>\n",
       "      <td>NIL4</td>\n",
       "      <td>68.780000</td>\n",
       "      <td>-48.500000</td>\n",
       "      <td>1331.0</td>\n",
       "      <td>None</td>\n",
       "      <td>None</td>\n",
       "      <td>0101000020E610000000000000004048C052B81E85EB31...</td>\n",
       "      <td>2</td>\n",
       "    </tr>\n",
       "    <tr>\n",
       "      <th>17</th>\n",
       "      <td>11</td>\n",
       "      <td>NIL5</td>\n",
       "      <td>68.840000</td>\n",
       "      <td>-47.670000</td>\n",
       "      <td>1557.0</td>\n",
       "      <td>None</td>\n",
       "      <td>None</td>\n",
       "      <td>0101000020E6100000F6285C8FC2D547C0F6285C8FC235...</td>\n",
       "      <td>2</td>\n",
       "    </tr>\n",
       "  </tbody>\n",
       "</table>\n",
       "</div>"
      ],
      "text/plain": [
       "    station_id station_name     reflat      reflon  refheight poc_name  \\\n",
       "0           22         LORG  34.463000 -118.550000        NaN     None   \n",
       "1           23         test  34.045000 -119.541000        NaN     None   \n",
       "2           17         NIU1  67.119742  -47.139061        NaN     None   \n",
       "3           18         NIU2  67.131502  -46.222216        NaN     None   \n",
       "4           19         NIU3  67.146943  -45.367189        NaN     None   \n",
       "5           20         NIU4  67.112244  -44.325733        NaN     None   \n",
       "6           21         NIU5  67.120695  -43.182892        NaN     None   \n",
       "7            1         NIT0 -80.330000  154.340000     1406.0     None   \n",
       "8            2         NIT1 -79.800000  161.330000       34.0     None   \n",
       "9            3         NIT2 -79.670000  164.800000       49.0     None   \n",
       "10           4         NIT3 -78.820000  168.940000       35.0     None   \n",
       "11           5         NIT4 -77.890000  169.660000       16.0     None   \n",
       "12           6         NIT5 -78.510000  161.720000      193.0     None   \n",
       "13           7         NIL1  68.990000  -49.670000      697.0     None   \n",
       "14           8         NIL2  68.900000  -49.370000      980.0     None   \n",
       "15           9         NIL3  68.830000  -48.960000     1196.0     None   \n",
       "16          10         NIL4  68.780000  -48.500000     1331.0     None   \n",
       "17          11         NIL5  68.840000  -47.670000     1557.0     None   \n",
       "\n",
       "   poc_email                                       station_geom  site_id  \n",
       "0       None  0101000020E61000003333333333A35DC025068195433B...        3  \n",
       "1       None  0101000020E6100000B4C876BE9FE25DC0F6285C8FC205...        3  \n",
       "2       None  0101000020E6100000149337C0CC9147C04A7D59DAA9C7...        2  \n",
       "3       None  0101000020E6100000F052EA92711C47C0F3565D876AC8...        2  \n",
       "4       None  0101000020E6100000B939950C00AF46C012D89C8367C9...        2  \n",
       "5       None  0101000020E61000002E1D739EB12946C0064B75012FC7...        2  \n",
       "6       None  0101000020E61000009B594B01699745C09B728577B9C7...        2  \n",
       "7       None  0101000020E61000007B14AE47E14A634085EB51B81E15...        1  \n",
       "8       None  0101000020E6100000C3F5285C8F2A64403333333333F3...        1  \n",
       "9       None  0101000020E61000009A999999999964407B14AE47E1EA...        1  \n",
       "10      None  0101000020E6100000AE47E17A141E654014AE47E17AB4...        1  \n",
       "11      None  0101000020E610000085EB51B81E356540295C8FC2F578...        1  \n",
       "12      None  0101000020E6100000D7A3703D0A376440713D0AD7A3A0...        1  \n",
       "13      None  0101000020E6100000F6285C8FC2D548C08FC2F5285C3F...        2  \n",
       "14      None  0101000020E61000008FC2F5285CAF48C09A9999999939...        2  \n",
       "15      None  0101000020E61000007B14AE47E17A48C085EB51B81E35...        2  \n",
       "16      None  0101000020E610000000000000004048C052B81E85EB31...        2  \n",
       "17      None  0101000020E6100000F6285C8FC2D547C0F6285C8FC235...        2  "
      ]
     },
     "execution_count": 19,
     "metadata": {},
     "output_type": "execute_result"
    }
   ],
   "source": [
    "myConnection.getTableListing(schemaName='landice', tableName='gps_station')"
   ]
  },
  {
   "cell_type": "markdown",
   "id": "0a89dac7-ad4d-42d0-86d5-be39cd588223",
   "metadata": {},
   "source": [
    "## Get Level 3 Products"
   ]
  },
  {
   "cell_type": "markdown",
   "id": "5705036e-58be-4787-8e07-cc7134f3e238",
   "metadata": {},
   "source": [
    "Get all L3 products from 2015 to 2023. Filters can be specified by column heading and value (e.g., `filters={'measurement_type': 'velocity'}`. Wild can be set off with % signs. For example, to list only the velocity files with 'vx' in the name will be accomplished by `filters={'product_path': '%vx%'}`."
   ]
  },
  {
   "cell_type": "code",
   "execution_count": 27,
   "id": "45a5a265-babc-47a4-8450-eb0bbb2d0010",
   "metadata": {},
   "outputs": [
    {
     "name": "stdout",
     "output_type": "stream",
     "text": [
      "product_path\n",
      "measurement_type\n"
     ]
    },
    {
     "data": {
      "text/html": [
       "<div>\n",
       "<style scoped>\n",
       "    .dataframe tbody tr th:only-of-type {\n",
       "        vertical-align: middle;\n",
       "    }\n",
       "\n",
       "    .dataframe tbody tr th {\n",
       "        vertical-align: top;\n",
       "    }\n",
       "\n",
       "    .dataframe thead th {\n",
       "        text-align: right;\n",
       "    }\n",
       "</style>\n",
       "<table border=\"1\" class=\"dataframe\">\n",
       "  <thead>\n",
       "    <tr style=\"text-align: right;\">\n",
       "      <th></th>\n",
       "      <th>product_id</th>\n",
       "      <th>start_date</th>\n",
       "      <th>end_date</th>\n",
       "      <th>resolution</th>\n",
       "      <th>accuracy</th>\n",
       "      <th>measurement_type</th>\n",
       "      <th>provider</th>\n",
       "      <th>product_type</th>\n",
       "      <th>product_path</th>\n",
       "      <th>product_version</th>\n",
       "      <th>software_version</th>\n",
       "      <th>config_file_path</th>\n",
       "      <th>date_created</th>\n",
       "      <th>archived</th>\n",
       "      <th>location_geom</th>\n",
       "      <th>notes</th>\n",
       "    </tr>\n",
       "  </thead>\n",
       "  <tbody>\n",
       "    <tr>\n",
       "      <th>0</th>\n",
       "      <td>2</td>\n",
       "      <td>2016-12-01</td>\n",
       "      <td>2017-11-30</td>\n",
       "      <td>None</td>\n",
       "      <td>None</td>\n",
       "      <td>velocity</td>\n",
       "      <td>None</td>\n",
       "      <td>test</td>\n",
       "      <td>s3://nisar-st-cryosphere-validation/test/veloc...</td>\n",
       "      <td>None</td>\n",
       "      <td>None</td>\n",
       "      <td>None</td>\n",
       "      <td>None</td>\n",
       "      <td>None</td>\n",
       "      <td>0106000020E61000000100000001030000000100000013...</td>\n",
       "      <td>test</td>\n",
       "    </tr>\n",
       "    <tr>\n",
       "      <th>1</th>\n",
       "      <td>5</td>\n",
       "      <td>2017-12-01</td>\n",
       "      <td>2018-11-30</td>\n",
       "      <td>None</td>\n",
       "      <td>None</td>\n",
       "      <td>velocity</td>\n",
       "      <td>None</td>\n",
       "      <td>test</td>\n",
       "      <td>s3://nisar-st-cryosphere-validation/test/veloc...</td>\n",
       "      <td>None</td>\n",
       "      <td>None</td>\n",
       "      <td>None</td>\n",
       "      <td>None</td>\n",
       "      <td>None</td>\n",
       "      <td>0106000020E61000000100000001030000000100000013...</td>\n",
       "      <td>test</td>\n",
       "    </tr>\n",
       "    <tr>\n",
       "      <th>2</th>\n",
       "      <td>8</td>\n",
       "      <td>2018-12-01</td>\n",
       "      <td>2019-11-30</td>\n",
       "      <td>None</td>\n",
       "      <td>None</td>\n",
       "      <td>velocity</td>\n",
       "      <td>None</td>\n",
       "      <td>test</td>\n",
       "      <td>s3://nisar-st-cryosphere-validation/test/veloc...</td>\n",
       "      <td>None</td>\n",
       "      <td>None</td>\n",
       "      <td>None</td>\n",
       "      <td>None</td>\n",
       "      <td>None</td>\n",
       "      <td>0106000020E61000000100000001030000000100000013...</td>\n",
       "      <td>test</td>\n",
       "    </tr>\n",
       "  </tbody>\n",
       "</table>\n",
       "</div>"
      ],
      "text/plain": [
       "   product_id  start_date    end_date resolution accuracy measurement_type  \\\n",
       "0           2  2016-12-01  2017-11-30       None     None         velocity   \n",
       "1           5  2017-12-01  2018-11-30       None     None         velocity   \n",
       "2           8  2018-12-01  2019-11-30       None     None         velocity   \n",
       "\n",
       "  provider product_type                                       product_path  \\\n",
       "0     None         test  s3://nisar-st-cryosphere-validation/test/veloc...   \n",
       "1     None         test  s3://nisar-st-cryosphere-validation/test/veloc...   \n",
       "2     None         test  s3://nisar-st-cryosphere-validation/test/veloc...   \n",
       "\n",
       "  product_version software_version config_file_path date_created archived  \\\n",
       "0            None             None             None         None     None   \n",
       "1            None             None             None         None     None   \n",
       "2            None             None             None         None     None   \n",
       "\n",
       "                                       location_geom notes  \n",
       "0  0106000020E61000000100000001030000000100000013...  test  \n",
       "1  0106000020E61000000100000001030000000100000013...  test  \n",
       "2  0106000020E61000000100000001030000000100000013...  test  "
      ]
     },
     "execution_count": 27,
     "metadata": {},
     "output_type": "execute_result"
    }
   ],
   "source": [
    "date1 = '01-01-2015'\n",
    "date2 = '12-31-2023'\n",
    "myConnection.getL3DateRangeData(date1, date2, schemaName='landice', tableName='l3_product', filters={'product_path': '%vx%', 'measurement_type': 'velocity'})"
   ]
  },
  {
   "cell_type": "markdown",
   "id": "b57e7b2b-dd6b-47ec-a277-bf1ab078f4d2",
   "metadata": {},
   "source": [
    "## Rollback a Query Error"
   ]
  },
  {
   "cell_type": "markdown",
   "id": "f3c4d817-c3c5-4183-a9db-774aa6b5904d",
   "metadata": {},
   "source": [
    "This will reset the connection after a query fails with an error. Most of the routines should trap errors and automatically rollback."
   ]
  },
  {
   "cell_type": "code",
   "execution_count": null,
   "id": "652c20b7-9dcb-4fc3-a338-de3c26c3d1cb",
   "metadata": {},
   "outputs": [],
   "source": [
    "myConnection.connection.rollback()"
   ]
  },
  {
   "cell_type": "markdown",
   "id": "91507858-0874-48ef-a081-0cef7f18155a",
   "metadata": {},
   "source": [
    "## Close the connection"
   ]
  },
  {
   "cell_type": "markdown",
   "id": "ec220417-262c-4244-92b1-536a4502107f",
   "metadata": {},
   "source": [
    "Close the connection when finished."
   ]
  },
  {
   "cell_type": "code",
   "execution_count": null,
   "id": "af931088-36c0-4762-885f-bd99dee455c5",
   "metadata": {},
   "outputs": [],
   "source": [
    "myConnection.close()"
   ]
  },
  {
   "cell_type": "code",
   "execution_count": null,
   "id": "d092d42f-37ab-47b0-b564-ad40fd1f7843",
   "metadata": {},
   "outputs": [],
   "source": []
  }
 ],
 "metadata": {
  "kernelspec": {
   "display_name": "base",
   "language": "python",
   "name": "base"
  },
  "language_info": {
   "codemirror_mode": {
    "name": "ipython",
    "version": 3
   },
   "file_extension": ".py",
   "mimetype": "text/x-python",
   "name": "python",
   "nbconvert_exporter": "python",
   "pygments_lexer": "ipython3",
   "version": "3.12.2"
  }
 },
 "nbformat": 4,
 "nbformat_minor": 5
}
