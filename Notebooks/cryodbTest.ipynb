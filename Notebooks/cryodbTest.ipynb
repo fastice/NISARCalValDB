{
 "cells": [
  {
   "cell_type": "markdown",
   "id": "a4009c32-3df3-479a-acd3-292396ced6a8",
   "metadata": {},
   "source": [
    "# Test Notebook for nisarcryodb\n",
    "---"
   ]
  },
  {
   "cell_type": "markdown",
   "id": "4966aafa-6b7d-44ce-87b0-4d329323c571",
   "metadata": {},
   "source": [
    "This note book is used to develop, test, and document the  `nisarcryodb` class, which is used to query the NISAR cal/val db for GPS data from cryosphere validation sites.\n"
   ]
  },
  {
   "cell_type": "code",
   "execution_count": 1,
   "id": "973ece80-b9a1-441d-af15-f06b72f23778",
   "metadata": {},
   "outputs": [],
   "source": [
    "%load_ext autoreload\n",
    "%autoreload 2\n",
    "import nisarcryodb\n",
    "from psycopg2 import sql"
   ]
  },
  {
   "cell_type": "markdown",
   "id": "1dfa7449-170a-4212-9db9-6230e147f62b",
   "metadata": {},
   "source": [
    "## Initialize nisarcryodb Object"
   ]
  },
  {
   "cell_type": "markdown",
   "id": "570ba33d-c077-4195-a98f-bdbe5966f151",
   "metadata": {},
   "source": [
    "This step initializes the connection to the nisar cal/val data base. It requires a cal/val database user name and passwd."
   ]
  },
  {
   "cell_type": "code",
   "execution_count": 2,
   "id": "430c13a6-7734-49d3-8e17-9d7182b64f06",
   "metadata": {},
   "outputs": [
    {
     "name": "stdin",
     "output_type": "stream",
     "text": [
      "User name:  irj\n",
      "Password:  ········\n"
     ]
    }
   ],
   "source": [
    "myConnection = nisarcryodb.nisarcryodb()"
   ]
  },
  {
   "cell_type": "markdown",
   "id": "97f7a422-97c6-452b-9080-a0036e7c3a55",
   "metadata": {},
   "source": [
    "## List Schema"
   ]
  },
  {
   "cell_type": "markdown",
   "id": "a5a45e0e-4865-4076-a1c6-4fa7a8a1135c",
   "metadata": {},
   "source": [
    "List all of the schema in the database. "
   ]
  },
  {
   "cell_type": "code",
   "execution_count": 3,
   "id": "a6ade660-b5aa-461d-bc61-fcce6b07099e",
   "metadata": {},
   "outputs": [
    {
     "name": "stdout",
     "output_type": "stream",
     "text": [
      "pg_catalog\n",
      "information_schema\n",
      "inundation\n",
      "disturbance\n",
      "soil_moisture\n",
      "seaice\n",
      "biomass\n",
      "crop_area\n",
      "nisar\n",
      "corner_reflectors\n",
      "permafrost\n",
      "sites\n",
      "tiger\n",
      "tiger_data\n",
      "topology\n",
      "public\n",
      "solidearth\n",
      "landice\n"
     ]
    }
   ],
   "source": [
    "schemas = myConnection.listSchema(quiet=False)"
   ]
  },
  {
   "cell_type": "markdown",
   "id": "b4cb818c-c90d-490b-8c69-75c63d31c36e",
   "metadata": {},
   "source": [
    "## List Table Names for Schema"
   ]
  },
  {
   "cell_type": "markdown",
   "id": "1b592474-296b-4762-afcc-1c9f583bf899",
   "metadata": {},
   "source": [
    "List the names of the table under the landice schema."
   ]
  },
  {
   "cell_type": "code",
   "execution_count": 4,
   "id": "2b7ac1ee-16a3-47c7-af2c-b7903e096eac",
   "metadata": {},
   "outputs": [
    {
     "name": "stdout",
     "output_type": "stream",
     "text": [
      "gps_data\n",
      "l3_product\n",
      "gps_station\n",
      "validation_run_gps_data_jct\n",
      "validation_run\n",
      "l3_product_calval_site_jct\n",
      "requirement\n",
      "l3_product_requirement_jct\n",
      "calval_site\n",
      "velocity_data\n"
     ]
    }
   ],
   "source": [
    "myConnection.listSchemaTableNames('landice');"
   ]
  },
  {
   "cell_type": "markdown",
   "id": "43d86472-d507-47b8-8c43-eeb14493c532",
   "metadata": {},
   "source": [
    "## List Column Names for Table"
   ]
  },
  {
   "cell_type": "markdown",
   "id": "50af3c77-4328-4227-9050-805c5e932d93",
   "metadata": {},
   "source": [
    "List the column names for a table (e.g., gps_station) and schema (e.g., landice)."
   ]
  },
  {
   "cell_type": "code",
   "execution_count": 5,
   "id": "48826cf5-04a0-481b-ac93-6e9e0ff2a9a0",
   "metadata": {},
   "outputs": [
    {
     "name": "stdout",
     "output_type": "stream",
     "text": [
      "station_id, station_name, reflat, reflon, refheight, poc_name, poc_email, station_geom, site_id\n"
     ]
    }
   ],
   "source": [
    "stationColumns = myConnection.listTableColumns('landice', 'gps_station', quiet=False)"
   ]
  },
  {
   "cell_type": "markdown",
   "id": "0aa6ccf8-3d1e-40ad-9c1d-bfc660fc14c5",
   "metadata": {},
   "source": [
    "This time get the columns for the gps_data table. Use `returnType=True` to get the data type for each column."
   ]
  },
  {
   "cell_type": "code",
   "execution_count": 6,
   "id": "4a9c03bb-92e2-4b77-a5bb-c812d5efb201",
   "metadata": {},
   "outputs": [
    {
     "name": "stdout",
     "output_type": "stream",
     "text": [
      "gps_data_id, station_id, date_uploaded, decimal_year, doy, lat, lon, ht_abv_eps, std, data_geom\n",
      "integer, integer, date, double precision, integer, double precision, double precision, double precision, double precision, USER-DEFINED\n"
     ]
    }
   ],
   "source": [
    "gpsCololumns, gpsDataTypes = myConnection.listTableColumns('landice', 'gps_data', returnType=True)"
   ]
  },
  {
   "cell_type": "markdown",
   "id": "fc5f46a1-e626-48d9-bdb4-a2d378244f23",
   "metadata": {},
   "source": [
    "## List Column Values"
   ]
  },
  {
   "cell_type": "markdown",
   "id": "5efd32bf-c697-4e60-9479-7b86ea815593",
   "metadata": {},
   "source": [
    "Get the `station_name` column values for `landice.gps_station` tables "
   ]
  },
  {
   "cell_type": "code",
   "execution_count": 7,
   "id": "5aa122d4-825f-44f8-9482-ee3f53ab0364",
   "metadata": {},
   "outputs": [
    {
     "data": {
      "text/plain": [
       "['NIL4',\n",
       " 'NIT3',\n",
       " 'NIU4',\n",
       " 'NIL2',\n",
       " 'NIL1',\n",
       " 'NIT4',\n",
       " 'NIU3',\n",
       " 'NIT0',\n",
       " 'NIT2',\n",
       " 'LORG',\n",
       " 'NIU1',\n",
       " 'NIU5',\n",
       " 'NIT1',\n",
       " 'NIL3',\n",
       " 'NIT5',\n",
       " 'test',\n",
       " 'NIL5',\n",
       " 'NIU2']"
      ]
     },
     "execution_count": 7,
     "metadata": {},
     "output_type": "execute_result"
    }
   ],
   "source": [
    "myConnection.getColumn('landice', 'gps_station', 'station_name')"
   ]
  },
  {
   "cell_type": "markdown",
   "id": "3127c357-68ae-4e44-9593-610896d18231",
   "metadata": {},
   "source": [
    "Get the `latitude` column values for `landice.gps_data` tables "
   ]
  },
  {
   "cell_type": "code",
   "execution_count": 8,
   "id": "700542bc-073e-4c7c-a323-a50aa76615ee",
   "metadata": {},
   "outputs": [
    {
     "data": {
      "text/plain": [
       "[-78.17862991394223,\n",
       " -78.17864053584339,\n",
       " -78.17863685486692,\n",
       " -78.17863226461824,\n",
       " -78.17864144853885,\n",
       " -78.17863077447899,\n",
       " -78.1786264857874,\n",
       " -78.1786393866371,\n",
       " -78.17863479595647,\n",
       " -78.17863902692139]"
      ]
     },
     "execution_count": 8,
     "metadata": {},
     "output_type": "execute_result"
    }
   ],
   "source": [
    "lat = myConnection.getColumn('landice', 'gps_data', 'lat');\n",
    "lat[0:10]"
   ]
  },
  {
   "cell_type": "markdown",
   "id": "b09c6713-a2d5-4fa0-84e6-5a136371b4fa",
   "metadata": {},
   "source": [
    "## Station Name to ID"
   ]
  },
  {
   "cell_type": "markdown",
   "id": "2a4df152-e5ed-4030-b95c-d604e8cb8668",
   "metadata": {},
   "source": [
    "Determine the station ID (e.g., 22) from the station name (e.g., LORG)."
   ]
  },
  {
   "cell_type": "code",
   "execution_count": 9,
   "id": "de594b00-91c3-406f-ab6b-b00369c16331",
   "metadata": {},
   "outputs": [
    {
     "data": {
      "text/plain": [
       "22"
      ]
     },
     "execution_count": 9,
     "metadata": {},
     "output_type": "execute_result"
    }
   ],
   "source": [
    "myConnection.stationNameToID('LORG')"
   ]
  },
  {
   "cell_type": "markdown",
   "id": "6a7782d3-260b-4535-90fe-3b7baf01e56a",
   "metadata": {},
   "source": [
    "## Get GPS Data for Date Range"
   ]
  },
  {
   "cell_type": "markdown",
   "id": "ac04c895-57dc-4af4-b506-7d54111e399f",
   "metadata": {},
   "source": [
    "Return all the data for a designated station for the decimal date range (d1, d2). "
   ]
  },
  {
   "cell_type": "code",
   "execution_count": 10,
   "id": "d057ba8f-6517-47ff-8352-1c55902f361b",
   "metadata": {},
   "outputs": [
    {
     "name": "stdout",
     "output_type": "stream",
     "text": [
      "gps_data_id, station_id, date_uploaded, decimal_year, doy, lat, lon, ht_abv_eps, std, data_geom\n"
     ]
    }
   ],
   "source": [
    "d1 = 2019.81810\n",
    "d2 = 2019.81811\n",
    "myData = myConnection.getStationDateRangeData('LORG', d1, d2, 'landice', 'gps_data')"
   ]
  },
  {
   "cell_type": "code",
   "execution_count": 11,
   "id": "347b209c-1b12-46fa-a154-6542576b56c8",
   "metadata": {},
   "outputs": [
    {
     "data": {
      "text/html": [
       "<div>\n",
       "<style scoped>\n",
       "    .dataframe tbody tr th:only-of-type {\n",
       "        vertical-align: middle;\n",
       "    }\n",
       "\n",
       "    .dataframe tbody tr th {\n",
       "        vertical-align: top;\n",
       "    }\n",
       "\n",
       "    .dataframe thead th {\n",
       "        text-align: right;\n",
       "    }\n",
       "</style>\n",
       "<table border=\"1\" class=\"dataframe\">\n",
       "  <thead>\n",
       "    <tr style=\"text-align: right;\">\n",
       "      <th></th>\n",
       "      <th>gps_data_id</th>\n",
       "      <th>station_id</th>\n",
       "      <th>date_uploaded</th>\n",
       "      <th>decimal_year</th>\n",
       "      <th>doy</th>\n",
       "      <th>lat</th>\n",
       "      <th>lon</th>\n",
       "      <th>ht_abv_eps</th>\n",
       "      <th>std</th>\n",
       "      <th>data_geom</th>\n",
       "    </tr>\n",
       "  </thead>\n",
       "  <tbody>\n",
       "    <tr>\n",
       "      <th>0</th>\n",
       "      <td>2109</td>\n",
       "      <td>22</td>\n",
       "      <td>2024-08-14</td>\n",
       "      <td>2019.818101</td>\n",
       "      <td>299</td>\n",
       "      <td>-78.178632</td>\n",
       "      <td>170.035776</td>\n",
       "      <td>-8.399378</td>\n",
       "      <td>0.034262</td>\n",
       "      <td>0101000020E61000001503241425416540F574E1B66E8B...</td>\n",
       "    </tr>\n",
       "    <tr>\n",
       "      <th>1</th>\n",
       "      <td>2110</td>\n",
       "      <td>22</td>\n",
       "      <td>2024-08-14</td>\n",
       "      <td>2019.818102</td>\n",
       "      <td>299</td>\n",
       "      <td>-78.178632</td>\n",
       "      <td>170.035776</td>\n",
       "      <td>-8.404296</td>\n",
       "      <td>0.034277</td>\n",
       "      <td>0101000020E610000038103E1425416540008BB5B66E8B...</td>\n",
       "    </tr>\n",
       "    <tr>\n",
       "      <th>2</th>\n",
       "      <td>2111</td>\n",
       "      <td>22</td>\n",
       "      <td>2024-08-14</td>\n",
       "      <td>2019.818103</td>\n",
       "      <td>299</td>\n",
       "      <td>-78.178632</td>\n",
       "      <td>170.035776</td>\n",
       "      <td>-8.401547</td>\n",
       "      <td>0.034317</td>\n",
       "      <td>0101000020E61000005AC65F1425416540B61675B66E8B...</td>\n",
       "    </tr>\n",
       "    <tr>\n",
       "      <th>3</th>\n",
       "      <td>2112</td>\n",
       "      <td>22</td>\n",
       "      <td>2024-08-14</td>\n",
       "      <td>2019.818104</td>\n",
       "      <td>299</td>\n",
       "      <td>-78.178632</td>\n",
       "      <td>170.035776</td>\n",
       "      <td>-8.424661</td>\n",
       "      <td>0.035204</td>\n",
       "      <td>0101000020E6100000AEB02F1425416540A21769B66E8B...</td>\n",
       "    </tr>\n",
       "    <tr>\n",
       "      <th>4</th>\n",
       "      <td>2113</td>\n",
       "      <td>22</td>\n",
       "      <td>2024-08-14</td>\n",
       "      <td>2019.818105</td>\n",
       "      <td>299</td>\n",
       "      <td>-78.178632</td>\n",
       "      <td>170.035776</td>\n",
       "      <td>-8.420378</td>\n",
       "      <td>0.035208</td>\n",
       "      <td>0101000020E61000000BE54B1425416540485E7FB66E8B...</td>\n",
       "    </tr>\n",
       "    <tr>\n",
       "      <th>5</th>\n",
       "      <td>2114</td>\n",
       "      <td>22</td>\n",
       "      <td>2024-08-14</td>\n",
       "      <td>2019.818106</td>\n",
       "      <td>299</td>\n",
       "      <td>-78.178632</td>\n",
       "      <td>170.035776</td>\n",
       "      <td>-8.410220</td>\n",
       "      <td>0.035218</td>\n",
       "      <td>0101000020E610000063A3821425416540819C78B66E8B...</td>\n",
       "    </tr>\n",
       "    <tr>\n",
       "      <th>6</th>\n",
       "      <td>2115</td>\n",
       "      <td>22</td>\n",
       "      <td>2024-08-14</td>\n",
       "      <td>2019.818107</td>\n",
       "      <td>299</td>\n",
       "      <td>-78.178632</td>\n",
       "      <td>170.035776</td>\n",
       "      <td>-8.416690</td>\n",
       "      <td>0.035232</td>\n",
       "      <td>0101000020E6100000F51F711425416540C3D9ACB66E8B...</td>\n",
       "    </tr>\n",
       "    <tr>\n",
       "      <th>7</th>\n",
       "      <td>2116</td>\n",
       "      <td>22</td>\n",
       "      <td>2024-08-14</td>\n",
       "      <td>2019.818107</td>\n",
       "      <td>299</td>\n",
       "      <td>-78.178632</td>\n",
       "      <td>170.035776</td>\n",
       "      <td>-8.410554</td>\n",
       "      <td>0.035250</td>\n",
       "      <td>0101000020E6100000A5D82714254165406BF597B66E8B...</td>\n",
       "    </tr>\n",
       "    <tr>\n",
       "      <th>8</th>\n",
       "      <td>2117</td>\n",
       "      <td>22</td>\n",
       "      <td>2024-08-14</td>\n",
       "      <td>2019.818108</td>\n",
       "      <td>299</td>\n",
       "      <td>-78.178632</td>\n",
       "      <td>170.035776</td>\n",
       "      <td>-8.394513</td>\n",
       "      <td>0.035271</td>\n",
       "      <td>0101000020E61000001B2B9214254165402616B3B66E8B...</td>\n",
       "    </tr>\n",
       "    <tr>\n",
       "      <th>9</th>\n",
       "      <td>2118</td>\n",
       "      <td>22</td>\n",
       "      <td>2024-08-14</td>\n",
       "      <td>2019.818109</td>\n",
       "      <td>299</td>\n",
       "      <td>-78.178632</td>\n",
       "      <td>170.035776</td>\n",
       "      <td>-8.383228</td>\n",
       "      <td>0.035295</td>\n",
       "      <td>0101000020E6100000F3BCA4142541654052F27AB66E8B...</td>\n",
       "    </tr>\n",
       "  </tbody>\n",
       "</table>\n",
       "</div>"
      ],
      "text/plain": [
       "   gps_data_id  station_id date_uploaded  decimal_year  doy        lat  \\\n",
       "0         2109          22    2024-08-14   2019.818101  299 -78.178632   \n",
       "1         2110          22    2024-08-14   2019.818102  299 -78.178632   \n",
       "2         2111          22    2024-08-14   2019.818103  299 -78.178632   \n",
       "3         2112          22    2024-08-14   2019.818104  299 -78.178632   \n",
       "4         2113          22    2024-08-14   2019.818105  299 -78.178632   \n",
       "5         2114          22    2024-08-14   2019.818106  299 -78.178632   \n",
       "6         2115          22    2024-08-14   2019.818107  299 -78.178632   \n",
       "7         2116          22    2024-08-14   2019.818107  299 -78.178632   \n",
       "8         2117          22    2024-08-14   2019.818108  299 -78.178632   \n",
       "9         2118          22    2024-08-14   2019.818109  299 -78.178632   \n",
       "\n",
       "          lon  ht_abv_eps       std  \\\n",
       "0  170.035776   -8.399378  0.034262   \n",
       "1  170.035776   -8.404296  0.034277   \n",
       "2  170.035776   -8.401547  0.034317   \n",
       "3  170.035776   -8.424661  0.035204   \n",
       "4  170.035776   -8.420378  0.035208   \n",
       "5  170.035776   -8.410220  0.035218   \n",
       "6  170.035776   -8.416690  0.035232   \n",
       "7  170.035776   -8.410554  0.035250   \n",
       "8  170.035776   -8.394513  0.035271   \n",
       "9  170.035776   -8.383228  0.035295   \n",
       "\n",
       "                                           data_geom  \n",
       "0  0101000020E61000001503241425416540F574E1B66E8B...  \n",
       "1  0101000020E610000038103E1425416540008BB5B66E8B...  \n",
       "2  0101000020E61000005AC65F1425416540B61675B66E8B...  \n",
       "3  0101000020E6100000AEB02F1425416540A21769B66E8B...  \n",
       "4  0101000020E61000000BE54B1425416540485E7FB66E8B...  \n",
       "5  0101000020E610000063A3821425416540819C78B66E8B...  \n",
       "6  0101000020E6100000F51F711425416540C3D9ACB66E8B...  \n",
       "7  0101000020E6100000A5D82714254165406BF597B66E8B...  \n",
       "8  0101000020E61000001B2B9214254165402616B3B66E8B...  \n",
       "9  0101000020E6100000F3BCA4142541654052F27AB66E8B...  "
      ]
     },
     "execution_count": 11,
     "metadata": {},
     "output_type": "execute_result"
    }
   ],
   "source": [
    "myData"
   ]
  },
  {
   "cell_type": "markdown",
   "id": "e5741c51-946a-47fe-82a4-240a198a0f86",
   "metadata": {},
   "source": [
    "## Get Station Information"
   ]
  },
  {
   "cell_type": "markdown",
   "id": "51b6aad0-0dc4-4d9d-bfe9-3ca7d026596d",
   "metadata": {},
   "source": [
    "Return the table with all of the top-level station data (e.g,, name, id, position, etc)."
   ]
  },
  {
   "cell_type": "code",
   "execution_count": 12,
   "id": "c4ff4375-c97a-4578-ac90-47bdde2c586a",
   "metadata": {},
   "outputs": [
    {
     "name": "stdout",
     "output_type": "stream",
     "text": [
      "station_id, station_name, reflat, reflon, refheight, poc_name, poc_email, station_geom, site_id\n"
     ]
    },
    {
     "data": {
      "text/html": [
       "<div>\n",
       "<style scoped>\n",
       "    .dataframe tbody tr th:only-of-type {\n",
       "        vertical-align: middle;\n",
       "    }\n",
       "\n",
       "    .dataframe tbody tr th {\n",
       "        vertical-align: top;\n",
       "    }\n",
       "\n",
       "    .dataframe thead th {\n",
       "        text-align: right;\n",
       "    }\n",
       "</style>\n",
       "<table border=\"1\" class=\"dataframe\">\n",
       "  <thead>\n",
       "    <tr style=\"text-align: right;\">\n",
       "      <th></th>\n",
       "      <th>station_id</th>\n",
       "      <th>station_name</th>\n",
       "      <th>reflat</th>\n",
       "      <th>reflon</th>\n",
       "      <th>refheight</th>\n",
       "      <th>poc_name</th>\n",
       "      <th>poc_email</th>\n",
       "      <th>station_geom</th>\n",
       "      <th>site_id</th>\n",
       "    </tr>\n",
       "  </thead>\n",
       "  <tbody>\n",
       "    <tr>\n",
       "      <th>0</th>\n",
       "      <td>22</td>\n",
       "      <td>LORG</td>\n",
       "      <td>34.463000</td>\n",
       "      <td>-118.550000</td>\n",
       "      <td>NaN</td>\n",
       "      <td>None</td>\n",
       "      <td>None</td>\n",
       "      <td>0101000020E61000003333333333A35DC025068195433B...</td>\n",
       "      <td>3</td>\n",
       "    </tr>\n",
       "    <tr>\n",
       "      <th>1</th>\n",
       "      <td>23</td>\n",
       "      <td>test</td>\n",
       "      <td>34.045000</td>\n",
       "      <td>-119.541000</td>\n",
       "      <td>NaN</td>\n",
       "      <td>None</td>\n",
       "      <td>None</td>\n",
       "      <td>0101000020E6100000B4C876BE9FE25DC0F6285C8FC205...</td>\n",
       "      <td>3</td>\n",
       "    </tr>\n",
       "    <tr>\n",
       "      <th>2</th>\n",
       "      <td>17</td>\n",
       "      <td>NIU1</td>\n",
       "      <td>67.119742</td>\n",
       "      <td>-47.139061</td>\n",
       "      <td>NaN</td>\n",
       "      <td>None</td>\n",
       "      <td>None</td>\n",
       "      <td>0101000020E6100000149337C0CC9147C04A7D59DAA9C7...</td>\n",
       "      <td>2</td>\n",
       "    </tr>\n",
       "    <tr>\n",
       "      <th>3</th>\n",
       "      <td>18</td>\n",
       "      <td>NIU2</td>\n",
       "      <td>67.131502</td>\n",
       "      <td>-46.222216</td>\n",
       "      <td>NaN</td>\n",
       "      <td>None</td>\n",
       "      <td>None</td>\n",
       "      <td>0101000020E6100000F052EA92711C47C0F3565D876AC8...</td>\n",
       "      <td>2</td>\n",
       "    </tr>\n",
       "    <tr>\n",
       "      <th>4</th>\n",
       "      <td>19</td>\n",
       "      <td>NIU3</td>\n",
       "      <td>67.146943</td>\n",
       "      <td>-45.367189</td>\n",
       "      <td>NaN</td>\n",
       "      <td>None</td>\n",
       "      <td>None</td>\n",
       "      <td>0101000020E6100000B939950C00AF46C012D89C8367C9...</td>\n",
       "      <td>2</td>\n",
       "    </tr>\n",
       "    <tr>\n",
       "      <th>5</th>\n",
       "      <td>20</td>\n",
       "      <td>NIU4</td>\n",
       "      <td>67.112244</td>\n",
       "      <td>-44.325733</td>\n",
       "      <td>NaN</td>\n",
       "      <td>None</td>\n",
       "      <td>None</td>\n",
       "      <td>0101000020E61000002E1D739EB12946C0064B75012FC7...</td>\n",
       "      <td>2</td>\n",
       "    </tr>\n",
       "    <tr>\n",
       "      <th>6</th>\n",
       "      <td>21</td>\n",
       "      <td>NIU5</td>\n",
       "      <td>67.120695</td>\n",
       "      <td>-43.182892</td>\n",
       "      <td>NaN</td>\n",
       "      <td>None</td>\n",
       "      <td>None</td>\n",
       "      <td>0101000020E61000009B594B01699745C09B728577B9C7...</td>\n",
       "      <td>2</td>\n",
       "    </tr>\n",
       "    <tr>\n",
       "      <th>7</th>\n",
       "      <td>1</td>\n",
       "      <td>NIT0</td>\n",
       "      <td>-80.330000</td>\n",
       "      <td>154.340000</td>\n",
       "      <td>1406.0</td>\n",
       "      <td>None</td>\n",
       "      <td>None</td>\n",
       "      <td>0101000020E61000007B14AE47E14A634085EB51B81E15...</td>\n",
       "      <td>1</td>\n",
       "    </tr>\n",
       "    <tr>\n",
       "      <th>8</th>\n",
       "      <td>2</td>\n",
       "      <td>NIT1</td>\n",
       "      <td>-79.800000</td>\n",
       "      <td>161.330000</td>\n",
       "      <td>34.0</td>\n",
       "      <td>None</td>\n",
       "      <td>None</td>\n",
       "      <td>0101000020E6100000C3F5285C8F2A64403333333333F3...</td>\n",
       "      <td>1</td>\n",
       "    </tr>\n",
       "    <tr>\n",
       "      <th>9</th>\n",
       "      <td>3</td>\n",
       "      <td>NIT2</td>\n",
       "      <td>-79.670000</td>\n",
       "      <td>164.800000</td>\n",
       "      <td>49.0</td>\n",
       "      <td>None</td>\n",
       "      <td>None</td>\n",
       "      <td>0101000020E61000009A999999999964407B14AE47E1EA...</td>\n",
       "      <td>1</td>\n",
       "    </tr>\n",
       "    <tr>\n",
       "      <th>10</th>\n",
       "      <td>4</td>\n",
       "      <td>NIT3</td>\n",
       "      <td>-78.820000</td>\n",
       "      <td>168.940000</td>\n",
       "      <td>35.0</td>\n",
       "      <td>None</td>\n",
       "      <td>None</td>\n",
       "      <td>0101000020E6100000AE47E17A141E654014AE47E17AB4...</td>\n",
       "      <td>1</td>\n",
       "    </tr>\n",
       "    <tr>\n",
       "      <th>11</th>\n",
       "      <td>5</td>\n",
       "      <td>NIT4</td>\n",
       "      <td>-77.890000</td>\n",
       "      <td>169.660000</td>\n",
       "      <td>16.0</td>\n",
       "      <td>None</td>\n",
       "      <td>None</td>\n",
       "      <td>0101000020E610000085EB51B81E356540295C8FC2F578...</td>\n",
       "      <td>1</td>\n",
       "    </tr>\n",
       "    <tr>\n",
       "      <th>12</th>\n",
       "      <td>6</td>\n",
       "      <td>NIT5</td>\n",
       "      <td>-78.510000</td>\n",
       "      <td>161.720000</td>\n",
       "      <td>193.0</td>\n",
       "      <td>None</td>\n",
       "      <td>None</td>\n",
       "      <td>0101000020E6100000D7A3703D0A376440713D0AD7A3A0...</td>\n",
       "      <td>1</td>\n",
       "    </tr>\n",
       "    <tr>\n",
       "      <th>13</th>\n",
       "      <td>7</td>\n",
       "      <td>NIL1</td>\n",
       "      <td>68.990000</td>\n",
       "      <td>-49.670000</td>\n",
       "      <td>697.0</td>\n",
       "      <td>None</td>\n",
       "      <td>None</td>\n",
       "      <td>0101000020E6100000F6285C8FC2D548C08FC2F5285C3F...</td>\n",
       "      <td>2</td>\n",
       "    </tr>\n",
       "    <tr>\n",
       "      <th>14</th>\n",
       "      <td>8</td>\n",
       "      <td>NIL2</td>\n",
       "      <td>68.900000</td>\n",
       "      <td>-49.370000</td>\n",
       "      <td>980.0</td>\n",
       "      <td>None</td>\n",
       "      <td>None</td>\n",
       "      <td>0101000020E61000008FC2F5285CAF48C09A9999999939...</td>\n",
       "      <td>2</td>\n",
       "    </tr>\n",
       "    <tr>\n",
       "      <th>15</th>\n",
       "      <td>9</td>\n",
       "      <td>NIL3</td>\n",
       "      <td>68.830000</td>\n",
       "      <td>-48.960000</td>\n",
       "      <td>1196.0</td>\n",
       "      <td>None</td>\n",
       "      <td>None</td>\n",
       "      <td>0101000020E61000007B14AE47E17A48C085EB51B81E35...</td>\n",
       "      <td>2</td>\n",
       "    </tr>\n",
       "    <tr>\n",
       "      <th>16</th>\n",
       "      <td>10</td>\n",
       "      <td>NIL4</td>\n",
       "      <td>68.780000</td>\n",
       "      <td>-48.500000</td>\n",
       "      <td>1331.0</td>\n",
       "      <td>None</td>\n",
       "      <td>None</td>\n",
       "      <td>0101000020E610000000000000004048C052B81E85EB31...</td>\n",
       "      <td>2</td>\n",
       "    </tr>\n",
       "    <tr>\n",
       "      <th>17</th>\n",
       "      <td>11</td>\n",
       "      <td>NIL5</td>\n",
       "      <td>68.840000</td>\n",
       "      <td>-47.670000</td>\n",
       "      <td>1557.0</td>\n",
       "      <td>None</td>\n",
       "      <td>None</td>\n",
       "      <td>0101000020E6100000F6285C8FC2D547C0F6285C8FC235...</td>\n",
       "      <td>2</td>\n",
       "    </tr>\n",
       "  </tbody>\n",
       "</table>\n",
       "</div>"
      ],
      "text/plain": [
       "    station_id station_name     reflat      reflon  refheight poc_name  \\\n",
       "0           22         LORG  34.463000 -118.550000        NaN     None   \n",
       "1           23         test  34.045000 -119.541000        NaN     None   \n",
       "2           17         NIU1  67.119742  -47.139061        NaN     None   \n",
       "3           18         NIU2  67.131502  -46.222216        NaN     None   \n",
       "4           19         NIU3  67.146943  -45.367189        NaN     None   \n",
       "5           20         NIU4  67.112244  -44.325733        NaN     None   \n",
       "6           21         NIU5  67.120695  -43.182892        NaN     None   \n",
       "7            1         NIT0 -80.330000  154.340000     1406.0     None   \n",
       "8            2         NIT1 -79.800000  161.330000       34.0     None   \n",
       "9            3         NIT2 -79.670000  164.800000       49.0     None   \n",
       "10           4         NIT3 -78.820000  168.940000       35.0     None   \n",
       "11           5         NIT4 -77.890000  169.660000       16.0     None   \n",
       "12           6         NIT5 -78.510000  161.720000      193.0     None   \n",
       "13           7         NIL1  68.990000  -49.670000      697.0     None   \n",
       "14           8         NIL2  68.900000  -49.370000      980.0     None   \n",
       "15           9         NIL3  68.830000  -48.960000     1196.0     None   \n",
       "16          10         NIL4  68.780000  -48.500000     1331.0     None   \n",
       "17          11         NIL5  68.840000  -47.670000     1557.0     None   \n",
       "\n",
       "   poc_email                                       station_geom  site_id  \n",
       "0       None  0101000020E61000003333333333A35DC025068195433B...        3  \n",
       "1       None  0101000020E6100000B4C876BE9FE25DC0F6285C8FC205...        3  \n",
       "2       None  0101000020E6100000149337C0CC9147C04A7D59DAA9C7...        2  \n",
       "3       None  0101000020E6100000F052EA92711C47C0F3565D876AC8...        2  \n",
       "4       None  0101000020E6100000B939950C00AF46C012D89C8367C9...        2  \n",
       "5       None  0101000020E61000002E1D739EB12946C0064B75012FC7...        2  \n",
       "6       None  0101000020E61000009B594B01699745C09B728577B9C7...        2  \n",
       "7       None  0101000020E61000007B14AE47E14A634085EB51B81E15...        1  \n",
       "8       None  0101000020E6100000C3F5285C8F2A64403333333333F3...        1  \n",
       "9       None  0101000020E61000009A999999999964407B14AE47E1EA...        1  \n",
       "10      None  0101000020E6100000AE47E17A141E654014AE47E17AB4...        1  \n",
       "11      None  0101000020E610000085EB51B81E356540295C8FC2F578...        1  \n",
       "12      None  0101000020E6100000D7A3703D0A376440713D0AD7A3A0...        1  \n",
       "13      None  0101000020E6100000F6285C8FC2D548C08FC2F5285C3F...        2  \n",
       "14      None  0101000020E61000008FC2F5285CAF48C09A9999999939...        2  \n",
       "15      None  0101000020E61000007B14AE47E17A48C085EB51B81E35...        2  \n",
       "16      None  0101000020E610000000000000004048C052B81E85EB31...        2  \n",
       "17      None  0101000020E6100000F6285C8FC2D547C0F6285C8FC235...        2  "
      ]
     },
     "execution_count": 12,
     "metadata": {},
     "output_type": "execute_result"
    }
   ],
   "source": [
    "myConnection.getStationsListing()"
   ]
  },
  {
   "cell_type": "markdown",
   "id": "b57e7b2b-dd6b-47ec-a277-bf1ab078f4d2",
   "metadata": {},
   "source": [
    "## Rollback a Query Error"
   ]
  },
  {
   "cell_type": "markdown",
   "id": "f3c4d817-c3c5-4183-a9db-774aa6b5904d",
   "metadata": {},
   "source": [
    "This will reset the connection after a query fails with an error."
   ]
  },
  {
   "cell_type": "code",
   "execution_count": null,
   "id": "652c20b7-9dcb-4fc3-a338-de3c26c3d1cb",
   "metadata": {},
   "outputs": [],
   "source": [
    "myConnection.connection.rollback()"
   ]
  },
  {
   "cell_type": "markdown",
   "id": "91507858-0874-48ef-a081-0cef7f18155a",
   "metadata": {},
   "source": [
    "## Close the connection"
   ]
  },
  {
   "cell_type": "markdown",
   "id": "ec220417-262c-4244-92b1-536a4502107f",
   "metadata": {},
   "source": [
    "Close the connection when finished."
   ]
  },
  {
   "cell_type": "code",
   "execution_count": 16,
   "id": "af931088-36c0-4762-885f-bd99dee455c5",
   "metadata": {},
   "outputs": [],
   "source": [
    "myConnection.close()"
   ]
  },
  {
   "cell_type": "code",
   "execution_count": null,
   "id": "3d8de9fb-9277-434a-aa12-558efb746117",
   "metadata": {},
   "outputs": [],
   "source": []
  }
 ],
 "metadata": {
  "kernelspec": {
   "display_name": "base",
   "language": "python",
   "name": "base"
  },
  "language_info": {
   "codemirror_mode": {
    "name": "ipython",
    "version": 3
   },
   "file_extension": ".py",
   "mimetype": "text/x-python",
   "name": "python",
   "nbconvert_exporter": "python",
   "pygments_lexer": "ipython3",
   "version": "3.12.2"
  }
 },
 "nbformat": 4,
 "nbformat_minor": 5
}
